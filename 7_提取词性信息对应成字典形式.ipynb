{
 "cells": [
  {
   "cell_type": "code",
   "execution_count": 1,
   "metadata": {},
   "outputs": [],
   "source": [
    "# -*- coding:utf8 -*-\n",
    "import urllib.request\n",
    "\n",
    "if __name__ == '__main__':\n",
    "    with open('neg.0.txt',encoding = 'utf-8') as f:\n",
    "        text = f.read()\n",
    "    url_get_base = \"https://api.ltp-cloud.com/analysis/\"\n",
    "    args = { \n",
    "        'api_key' : 'd1a9h0l4M5aeMp7H9WdnSgzhPKve0dBTbfsMbhgB',\n",
    "        'text' : text,\n",
    "        'pattern' : 'pos',\n",
    "        'format' : 'plain'\n",
    "    }\n",
    "    result = urllib.request.urlopen(url_get_base, urllib.parse.urlencode(args).encode(encoding='UTF8')) # POST method\n",
    "    content = result.read().strip().decode('utf-8')"
   ]
  },
  {
   "cell_type": "code",
   "execution_count": 2,
   "metadata": {},
   "outputs": [
    {
     "data": {
      "text/plain": [
       "'标准间_n 太_d 差_a 房间_n 还_d 不如_v 3_m 星_n 的_u 而且_c 设施_n 非常_d 陈旧._nh 建议_v 酒店_n 把_p 老_a 的_u 标准间_n 从_p 新_d 改善_v ._wp'"
      ]
     },
     "execution_count": 2,
     "metadata": {},
     "output_type": "execute_result"
    }
   ],
   "source": [
    "content"
   ]
  },
  {
   "cell_type": "code",
   "execution_count": 3,
   "metadata": {},
   "outputs": [],
   "source": [
    "content_list = content.replace('\\n',' ')"
   ]
  },
  {
   "cell_type": "code",
   "execution_count": 4,
   "metadata": {},
   "outputs": [
    {
     "data": {
      "text/plain": [
       "'标准间_n 太_d 差_a 房间_n 还_d 不如_v 3_m 星_n 的_u 而且_c 设施_n 非常_d 陈旧._nh 建议_v 酒店_n 把_p 老_a 的_u 标准间_n 从_p 新_d 改善_v ._wp'"
      ]
     },
     "execution_count": 4,
     "metadata": {},
     "output_type": "execute_result"
    }
   ],
   "source": [
    "content_list"
   ]
  },
  {
   "cell_type": "code",
   "execution_count": 5,
   "metadata": {},
   "outputs": [],
   "source": [
    "content_list = content_list.split(' ')"
   ]
  },
  {
   "cell_type": "code",
   "execution_count": 6,
   "metadata": {},
   "outputs": [
    {
     "data": {
      "text/plain": [
       "['标准间_n',\n",
       " '太_d',\n",
       " '差_a',\n",
       " '房间_n',\n",
       " '还_d',\n",
       " '不如_v',\n",
       " '3_m',\n",
       " '星_n',\n",
       " '的_u',\n",
       " '而且_c',\n",
       " '设施_n',\n",
       " '非常_d',\n",
       " '陈旧._nh',\n",
       " '建议_v',\n",
       " '酒店_n',\n",
       " '把_p',\n",
       " '老_a',\n",
       " '的_u',\n",
       " '标准间_n',\n",
       " '从_p',\n",
       " '新_d',\n",
       " '改善_v',\n",
       " '._wp']"
      ]
     },
     "execution_count": 6,
     "metadata": {},
     "output_type": "execute_result"
    }
   ],
   "source": [
    "content_list"
   ]
  },
  {
   "cell_type": "code",
   "execution_count": 7,
   "metadata": {},
   "outputs": [],
   "source": [
    "content_list_word = []\n",
    "content_list_part_of_speech = []"
   ]
  },
  {
   "cell_type": "code",
   "execution_count": 8,
   "metadata": {},
   "outputs": [],
   "source": [
    "for i in range(len(content_list)):\n",
    "    interm_list = content_list[i].split('_')\n",
    "    content_list_word.append(interm_list[0])\n",
    "    content_list_part_of_speech.append(interm_list[1])"
   ]
  },
  {
   "cell_type": "code",
   "execution_count": 9,
   "metadata": {},
   "outputs": [
    {
     "data": {
      "text/plain": [
       "['标准间',\n",
       " '太',\n",
       " '差',\n",
       " '房间',\n",
       " '还',\n",
       " '不如',\n",
       " '3',\n",
       " '星',\n",
       " '的',\n",
       " '而且',\n",
       " '设施',\n",
       " '非常',\n",
       " '陈旧.',\n",
       " '建议',\n",
       " '酒店',\n",
       " '把',\n",
       " '老',\n",
       " '的',\n",
       " '标准间',\n",
       " '从',\n",
       " '新',\n",
       " '改善',\n",
       " '.']"
      ]
     },
     "execution_count": 9,
     "metadata": {},
     "output_type": "execute_result"
    }
   ],
   "source": [
    "content_list_word"
   ]
  },
  {
   "cell_type": "code",
   "execution_count": 10,
   "metadata": {},
   "outputs": [
    {
     "data": {
      "text/plain": [
       "['n',\n",
       " 'd',\n",
       " 'a',\n",
       " 'n',\n",
       " 'd',\n",
       " 'v',\n",
       " 'm',\n",
       " 'n',\n",
       " 'u',\n",
       " 'c',\n",
       " 'n',\n",
       " 'd',\n",
       " 'nh',\n",
       " 'v',\n",
       " 'n',\n",
       " 'p',\n",
       " 'a',\n",
       " 'u',\n",
       " 'n',\n",
       " 'p',\n",
       " 'd',\n",
       " 'v',\n",
       " 'wp']"
      ]
     },
     "execution_count": 10,
     "metadata": {},
     "output_type": "execute_result"
    }
   ],
   "source": [
    "content_list_part_of_speech"
   ]
  },
  {
   "cell_type": "code",
   "execution_count": 11,
   "metadata": {},
   "outputs": [],
   "source": [
    "dict_list = list(zip(content_list_word, content_list_part_of_speech))"
   ]
  },
  {
   "cell_type": "code",
   "execution_count": 12,
   "metadata": {},
   "outputs": [
    {
     "data": {
      "text/plain": [
       "[('标准间', 'n'),\n",
       " ('太', 'd'),\n",
       " ('差', 'a'),\n",
       " ('房间', 'n'),\n",
       " ('还', 'd'),\n",
       " ('不如', 'v'),\n",
       " ('3', 'm'),\n",
       " ('星', 'n'),\n",
       " ('的', 'u'),\n",
       " ('而且', 'c'),\n",
       " ('设施', 'n'),\n",
       " ('非常', 'd'),\n",
       " ('陈旧.', 'nh'),\n",
       " ('建议', 'v'),\n",
       " ('酒店', 'n'),\n",
       " ('把', 'p'),\n",
       " ('老', 'a'),\n",
       " ('的', 'u'),\n",
       " ('标准间', 'n'),\n",
       " ('从', 'p'),\n",
       " ('新', 'd'),\n",
       " ('改善', 'v'),\n",
       " ('.', 'wp')]"
      ]
     },
     "execution_count": 12,
     "metadata": {},
     "output_type": "execute_result"
    }
   ],
   "source": [
    "dict_list"
   ]
  },
  {
   "cell_type": "code",
   "execution_count": 13,
   "metadata": {},
   "outputs": [],
   "source": [
    "key_list = []\n",
    "for i in dict_list:\n",
    "    if i[1] == 'n' or i[1] == 'r':\n",
    "        key_list.append(i[0])"
   ]
  },
  {
   "cell_type": "code",
   "execution_count": 14,
   "metadata": {},
   "outputs": [
    {
     "data": {
      "text/plain": [
       "['标准间', '房间', '星', '设施', '酒店', '标准间']"
      ]
     },
     "execution_count": 14,
     "metadata": {},
     "output_type": "execute_result"
    }
   ],
   "source": [
    "key_list"
   ]
  },
  {
   "cell_type": "code",
   "execution_count": 15,
   "metadata": {},
   "outputs": [
    {
     "data": {
      "text/plain": [
       "{'标准间': 'n',\n",
       " '太': 'd',\n",
       " '差': 'a',\n",
       " '房间': 'n',\n",
       " '还': 'd',\n",
       " '不如': 'v',\n",
       " '3': 'm',\n",
       " '星': 'n',\n",
       " '的': 'u',\n",
       " '而且': 'c',\n",
       " '设施': 'n',\n",
       " '非常': 'd',\n",
       " '陈旧.': 'nh',\n",
       " '建议': 'v',\n",
       " '酒店': 'n',\n",
       " '把': 'p',\n",
       " '老': 'a',\n",
       " '从': 'p',\n",
       " '新': 'd',\n",
       " '改善': 'v',\n",
       " '.': 'wp'}"
      ]
     },
     "execution_count": 15,
     "metadata": {},
     "output_type": "execute_result"
    }
   ],
   "source": [
    "dic = dict(zip(content_list_word, content_list_part_of_speech))\n",
    "dic"
   ]
  },
  {
   "cell_type": "code",
   "execution_count": 16,
   "metadata": {},
   "outputs": [],
   "source": [
    "key_list = []\n",
    "for key, val in dic.items():\n",
    "    if val == 'n' or val == 'r' :  \n",
    "        key_list.append(key)"
   ]
  },
  {
   "cell_type": "code",
   "execution_count": 17,
   "metadata": {},
   "outputs": [
    {
     "data": {
      "text/plain": [
       "['标准间', '房间', '星', '设施', '酒店']"
      ]
     },
     "execution_count": 17,
     "metadata": {},
     "output_type": "execute_result"
    }
   ],
   "source": [
    "key_list"
   ]
  },
  {
   "cell_type": "code",
   "execution_count": null,
   "metadata": {
    "collapsed": true
   },
   "outputs": [],
   "source": []
  }
 ],
 "metadata": {
  "kernelspec": {
   "display_name": "Python 3",
   "language": "python",
   "name": "python3"
  },
  "language_info": {
   "codemirror_mode": {
    "name": "ipython",
    "version": 3
   },
   "file_extension": ".py",
   "mimetype": "text/x-python",
   "name": "python",
   "nbconvert_exporter": "python",
   "pygments_lexer": "ipython3",
   "version": "3.6.5"
  }
 },
 "nbformat": 4,
 "nbformat_minor": 2
}
