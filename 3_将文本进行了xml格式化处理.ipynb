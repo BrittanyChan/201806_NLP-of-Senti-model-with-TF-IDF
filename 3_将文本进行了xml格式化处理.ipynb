{
 "cells": [
  {
   "cell_type": "code",
   "execution_count": 3,
   "metadata": {},
   "outputs": [],
   "source": [
    "def readnegfile(i):\n",
    "    text=open('neg.'+str(i)+'.txt',encoding = 'utf-8').read()\n",
    "    return text"
   ]
  },
  {
   "cell_type": "code",
   "execution_count": 4,
   "metadata": {},
   "outputs": [],
   "source": [
    "# -*- coding:utf8 -*-\n",
    "import urllib.request\n",
    "\n",
    "if __name__ == '__main__':\n",
    "    for i in range(11):\n",
    "        url_get_base = \"https://api.ltp-cloud.com/analysis/\"\n",
    "        args = { 'api_key' : 'd1a9h0l4M5aeMp7H9WdnSgzhPKve0dBTbfsMbhgB',\n",
    "                'text' : readnegfile(i),\n",
    "                'pattern' : 'all',\n",
    "                'format' : 'xml'\n",
    "                }\n",
    "        result = urllib.request.urlopen(url_get_base, urllib.parse.urlencode(args).encode(encoding='UTF8')) # POST method\n",
    "        content = result.read().strip()\n",
    "        with open('neg_'+str(i)+'xml.txt','w') as f:\n",
    "            f.write(content.decode('utf-8'))"
   ]
  },
  {
   "cell_type": "code",
   "execution_count": null,
   "metadata": {
    "collapsed": true
   },
   "outputs": [],
   "source": []
  }
 ],
 "metadata": {
  "kernelspec": {
   "display_name": "Python 3",
   "language": "python",
   "name": "python3"
  },
  "language_info": {
   "codemirror_mode": {
    "name": "ipython",
    "version": 3
   },
   "file_extension": ".py",
   "mimetype": "text/x-python",
   "name": "python",
   "nbconvert_exporter": "python",
   "pygments_lexer": "ipython3",
   "version": "3.6.5"
  }
 },
 "nbformat": 4,
 "nbformat_minor": 2
}
