{
 "cells": [
  {
   "cell_type": "code",
   "execution_count": 1,
   "metadata": {
    "collapsed": true
   },
   "outputs": [],
   "source": [
    "# The update Model 0717"
   ]
  },
  {
   "cell_type": "code",
   "execution_count": 2,
   "metadata": {
    "collapsed": true
   },
   "outputs": [],
   "source": [
    "# -*-coding:utf-8-*-\n",
    "import re\n",
    "import numpy as np\n",
    "import pickle\n",
    "\n",
    "def choose_file():\n",
    "    print ('Which one?')\n",
    "    location = input()\n",
    "    print ('neg/pos?')\n",
    "    polarity =  input()\n",
    "    return (location, polarity)\n",
    "\n",
    "def read_withoutstopwords(x):\n",
    "    \n",
    "    global location, polarity\n",
    "    \n",
    "    # Preparation:\n",
    "    read_sentidict = open('sentidict.pkl','rb')\n",
    "    sentidict = pickle.load(read_sentidict)\n",
    "    read_sentidict.close()\n",
    "\n",
    "    sentiList = list(sentidict.keys())\n",
    "    \n",
    "    # First Step: Read Content\n",
    "    with open('.\\ChnSentiCorp\\%s\\%s\\withoutstop\\%s(%d).txt'%(location,polarity,polarity,x),encoding='utf-8-sig') as f:\n",
    "        content = f.read()\n",
    "        content = re.sub('[A-Za-z0-9\\[\\`\\~\\!\\@\\#\\$\\^\\&\\*\\(\\)\\=\\|\\{\\}\\'\\'\\[\\]\\<\\>\\/\\~\\@\\#\\\\\\&\\*\\%\\“\\\"\\”\\、\\(\\)\\（\\）\\《\\》]', '', content)\n",
    "        \n",
    "    # Second Step: Save punctuation and Deal with the tricky ones\n",
    "    pattern = re.compile(r'；|，|\\！|\\。|\\：|\\？|\\?|\\.|\\,|\\!|\\;|\\:')\n",
    "    result = pattern.findall(content)\n",
    "    \n",
    "    save_index = []\n",
    "    for i in range(len(result)):\n",
    "        if result[i] == '!' or result[i] == '！':\n",
    "            save_index.append(i)\n",
    "        if result[i] == '?' or result[i] == '？':\n",
    "            save_index.append(i)\n",
    "        if result[i] == '.' or result[i] == '。':\n",
    "            save_index.append(i)\n",
    "            \n",
    "    drop_index = []\n",
    "    for i in range(len(save_index)):\n",
    "        if result[save_index[i-1]] == result[save_index[i]]:\n",
    "            drop_index.append(save_index[i])\n",
    "        else: pass\n",
    "        \n",
    "    for i in drop_index:\n",
    "        result[i] = ' '\n",
    "    \n",
    "    result = [i for i in result if i != ' ']\n",
    "    \n",
    "    # Third Step: Split the content and Clean the data\n",
    "    content = re.split(r'；|，|\\！|\\。|\\：|\\？|\\?|\\.|\\,|\\!|\\;|\\:', content)\n",
    "    for i in content:\n",
    "        if i == ' ':content.remove(i)\n",
    "        \n",
    "    # Fourth Step: Change its' format\n",
    "    for i in range(len(content)):\n",
    "        content[i] = [x for x in content[i].split(' ') if x !='']\n",
    "    content = [x for x in content if x!=[]]\n",
    "    \n",
    "    # Fifth Step: Build up the Zero Model Matrix\n",
    "    np_content = np.full((len(content),3),0)\n",
    "    \n",
    "    # Sixth Step: Temp Matrix and Fix the first column of our Model Matrix\n",
    "    data_width = []\n",
    "    max_width = 0\n",
    "    for i in range(len(content)):\n",
    "        for j in range(len(content[i])):\n",
    "            data_width.append(j)\n",
    "    \n",
    "    try:max_width = max(data_width)+1\n",
    "    except ValueError as e:print ('ValueError in postion'+str(x))\n",
    "            \n",
    "    content_matrix =  np.full((len(content),max_width),0)\n",
    "    \n",
    "    for i in range(len(content)):\n",
    "        for j in range(len(content[i])):\n",
    "            if content[i][j] in sentiList:\n",
    "                content_matrix[i][j] = sentidict[content[i][j]]\n",
    "    \n",
    "    np_content[:,0] = content_matrix.sum(axis=1)\n",
    "    \n",
    "    # Seventh Step: Fix the second column of our Model Matrix\n",
    "    with open('Negation.txt') as f_N:\n",
    "        sentiList_Neg = f_N.read().split('\\n')\n",
    "    temp = content_matrix.sum(axis=1)\n",
    "    \n",
    "    for i in range(len(temp)):\n",
    "        if temp[i] == 0 or temp[i] == -1:pass\n",
    "        else: temp[i] = 1\n",
    "        \n",
    "    np_content[:,1] = temp\n",
    "    \n",
    "    # Eighth Step: Fix the third column of our Model Matrix\n",
    "    np_pun = np.zeros(len(content))\n",
    "    try:\n",
    "        punctuation = ['！','!']\n",
    "        for i in range(len(result)):\n",
    "            if result[i] in punctuation:\n",
    "                np_pun[i] = 1\n",
    "    except IndexError as e:print ('IndexError in postion'+str(x))\n",
    "    \n",
    "    try:\n",
    "        punctuation = ['？','?']\n",
    "        for i in range(len(result)):\n",
    "            if result[i] in punctuation:\n",
    "                np_pun[i] = -1\n",
    "    except IndexError as e:print ('IndexError in postion'+str(x))\n",
    "            \n",
    "    np_content[:,2] = np_pun\n",
    "    \n",
    "    # Ninth Step: Multiply Weight1\n",
    "    with open('Turn.txt') as f_T:\n",
    "        turnWords = f_T.read().split('\\n')\n",
    "    \n",
    "    data_width = []\n",
    "    max_width = 0\n",
    "    for i in range(len(content)):\n",
    "        for j in range(len(content[i])):\n",
    "            data_width.append(j)\n",
    "    \n",
    "    try:max_width = max(data_width)+1\n",
    "    except ValueError as e:print ('ValueError in postion'+str(x))\n",
    "            \n",
    "    content_matrix =  np.full((len(content),max_width),0)\n",
    "\n",
    "    for i in range(len(content)):\n",
    "        for j in range(len(content[i])):\n",
    "            if content[i][j] in turnWords:\n",
    "                content_matrix[i][j] = -1\n",
    "                \n",
    "    content_matrix_sum = content_matrix.sum(axis=1)\n",
    "    \n",
    "    for i in range(len(content_matrix_sum)):\n",
    "        if content_matrix_sum[i] == 0:content_matrix_sum[i] = 1\n",
    "            \n",
    "    for i in range(len(content_matrix_sum)):\n",
    "        np_content[i] = np_content[i]*content_matrix_sum[i]\n",
    "        \n",
    "    # Tenth Step: Multiply Weight2\n",
    "    read_dict_level = open('dict_level.pkl','rb')\n",
    "    dict_level = pickle.load(read_dict_level)\n",
    "    read_dict_level.close()\n",
    "    \n",
    "    dict_level_list = list(dict_level)\n",
    "    \n",
    "    data_width = []\n",
    "    max_width = 0\n",
    "    for i in range(len(content)):\n",
    "        for j in range(len(content[i])):\n",
    "            data_width.append(j)\n",
    "    \n",
    "    try:max_width = max(data_width)+1\n",
    "    except ValueError as e:print ('ValueError in postion'+str(x))\n",
    "            \n",
    "    content_matrix =  np.full((len(content),max_width),0)\n",
    "\n",
    "    for i in range(len(content)):\n",
    "        for j in range(len(content[i])):\n",
    "            if content[i][j] in dict_level_list:content_matrix[i][j] = dict_level[(content[i][j])]\n",
    "                \n",
    "    weight = (1+content_matrix.sum(axis=1))/(len(content)+content_matrix.sum())\n",
    "    \n",
    "    np_content = np_content.astype(float)\n",
    "    \n",
    "    for i in range(len(weight)):\n",
    "        np_content[i] = np_content[i]*weight[i]\n",
    "        \n",
    "    result_matrix = []\n",
    "    for i in range(len(np_content)):\n",
    "        result_matrix.extend(np_content[i])\n",
    "        \n",
    "    return result_matrix"
   ]
  },
  {
   "cell_type": "code",
   "execution_count": null,
   "metadata": {
    "collapsed": true
   },
   "outputs": [],
   "source": [
    "# Test_1"
   ]
  },
  {
   "cell_type": "code",
   "execution_count": 24,
   "metadata": {},
   "outputs": [
    {
     "name": "stdout",
     "output_type": "stream",
     "text": [
      "Which one?\n",
      "Dangdang_Book_4000\n",
      "neg/pos?\n",
      "neg\n"
     ]
    },
    {
     "data": {
      "text/plain": [
       "[-0.20833333333333334,\n",
       " -0.20833333333333334,\n",
       " 0.0,\n",
       " 0.25,\n",
       " 0.25,\n",
       " 0.0,\n",
       " 0.0,\n",
       " 0.0,\n",
       " 0.0,\n",
       " 0.0,\n",
       " 0.0,\n",
       " 0.041666666666666664,\n",
       " -0.75,\n",
       " 0.375,\n",
       " 0.375,\n",
       " 0.0,\n",
       " 0.0,\n",
       " 0.041666666666666664,\n",
       " -0.041666666666666664,\n",
       " -0.041666666666666664,\n",
       " 0.041666666666666664]"
      ]
     },
     "execution_count": 24,
     "metadata": {},
     "output_type": "execute_result"
    }
   ],
   "source": [
    "location, polarity = choose_file()\n",
    "result_matrix = read_withoutstopwords(999)\n",
    "result_matrix"
   ]
  },
  {
   "cell_type": "code",
   "execution_count": 25,
   "metadata": {},
   "outputs": [
    {
     "name": "stdout",
     "output_type": "stream",
     "text": [
      "Which one?\n",
      "Ctrip_htl_ba_4000\n",
      "neg/pos?\n",
      "neg\n"
     ]
    },
    {
     "data": {
      "text/plain": [
       "[-0.6,\n",
       " -0.6,\n",
       " 0.0,\n",
       " 0.0,\n",
       " 0.0,\n",
       " 0.0,\n",
       " -0.06666666666666667,\n",
       " -0.06666666666666667,\n",
       " 0.0,\n",
       " 0.0,\n",
       " 0.0,\n",
       " 0.0]"
      ]
     },
     "execution_count": 25,
     "metadata": {},
     "output_type": "execute_result"
    }
   ],
   "source": [
    "location, polarity = choose_file()\n",
    "result_matrix = read_withoutstopwords(999)\n",
    "result_matrix"
   ]
  },
  {
   "cell_type": "code",
   "execution_count": 26,
   "metadata": {},
   "outputs": [
    {
     "name": "stdout",
     "output_type": "stream",
     "text": [
      "Which one?\n",
      "Jingdong_NB_4000\n",
      "neg/pos?\n",
      "neg\n"
     ]
    },
    {
     "data": {
      "text/plain": [
       "[0.0,\n",
       " 0.0,\n",
       " 0.0,\n",
       " 0.0,\n",
       " 0.0,\n",
       " 0.0,\n",
       " -0.03571428571428571,\n",
       " -0.03571428571428571,\n",
       " 0.0,\n",
       " 0.0,\n",
       " 0.0,\n",
       " 0.0,\n",
       " 0.0,\n",
       " 0.0,\n",
       " 0.0,\n",
       " -0.07142857142857142,\n",
       " 0.03571428571428571,\n",
       " 0.0,\n",
       " 0.17857142857142858,\n",
       " 0.17857142857142858,\n",
       " 0.0,\n",
       " 0.0,\n",
       " 0.0,\n",
       " 0.0]"
      ]
     },
     "execution_count": 26,
     "metadata": {},
     "output_type": "execute_result"
    }
   ],
   "source": [
    "location, polarity = choose_file()\n",
    "result_matrix = read_withoutstopwords(999)\n",
    "result_matrix"
   ]
  },
  {
   "cell_type": "code",
   "execution_count": null,
   "metadata": {
    "collapsed": true
   },
   "outputs": [],
   "source": [
    "# Test_2"
   ]
  },
  {
   "cell_type": "code",
   "execution_count": 3,
   "metadata": {
    "collapsed": true
   },
   "outputs": [],
   "source": [
    "def get_temp(n):\n",
    "    global location, polarity\n",
    "    temp = []\n",
    "    location, polarity = choose_file()\n",
    "    for i in range(n):\n",
    "        temp.append(read_withoutstopwords(i))\n",
    "    return (temp)\n",
    "    \n",
    "def combine_neg_pos_data(n):\n",
    "    temp1 = get_temp(n)\n",
    "    temp2 = get_temp(n)\n",
    "    data = temp1 + temp2\n",
    "  \n",
    "    len_list = []\n",
    "    for i in data:\n",
    "        len_list.append(len(i))\n",
    "    max_len = max(len_list)\n",
    "    \n",
    "    for i in data:\n",
    "        if len(i) != max_len:\n",
    "            i.extend([0]*(max_len-len(i)))\n",
    "        \n",
    "    data = np.array(data)\n",
    "    return data"
   ]
  },
  {
   "cell_type": "code",
   "execution_count": 15,
   "metadata": {},
   "outputs": [
    {
     "name": "stdout",
     "output_type": "stream",
     "text": [
      "Which one?\n",
      "Jingdong_NB_4000\n",
      "neg/pos?\n",
      "neg\n",
      "Which one?\n",
      "Jingdong_NB_4000\n",
      "neg/pos?\n",
      "pos\n"
     ]
    }
   ],
   "source": [
    "data = combine_neg_pos_data(2)"
   ]
  },
  {
   "cell_type": "code",
   "execution_count": 16,
   "metadata": {},
   "outputs": [
    {
     "data": {
      "text/plain": [
       "array([[ 0.        ,  0.        ,  0.        ,  1.        ,  0.33333333,\n",
       "         0.        ,  0.        ,  0.        ,  0.        ,  0.        ,\n",
       "         0.        ,  0.        ,  0.        ,  0.        ,  0.        ,\n",
       "         0.        ,  0.        ,  0.        ,  0.        ,  0.        ,\n",
       "         0.        ,  0.        ,  0.        ,  0.        ,  0.        ,\n",
       "         0.        ,  0.        ,  0.        ,  0.        ,  0.        ,\n",
       "         0.        ,  0.        ,  0.        ,  0.        ,  0.        ,\n",
       "         0.        ],\n",
       "       [ 0.45454545,  0.45454545,  0.        ,  0.        ,  0.        ,\n",
       "         0.        , -0.09090909, -0.09090909, -0.09090909,  0.        ,\n",
       "         0.        ,  0.        ,  0.        ,  0.        ,  0.        ,\n",
       "         0.        ,  0.        ,  0.        ,  0.        ,  0.        ,\n",
       "         0.        ,  0.        ,  0.        ,  0.        ,  0.        ,\n",
       "         0.        ,  0.        ,  0.        ,  0.        ,  0.        ,\n",
       "         0.        ,  0.        ,  0.        ,  0.        ,  0.        ,\n",
       "         0.        ],\n",
       "       [ 0.        ,  0.        ,  0.        ,  0.        ,  0.        ,\n",
       "         0.        ,  0.        ,  0.        ,  0.        ,  0.        ,\n",
       "         0.        ,  0.        ,  0.41666667,  0.41666667,  0.        ,\n",
       "         0.        ,  0.        ,  0.        ,  0.        ,  0.        ,\n",
       "         0.        ,  0.        ,  0.        ,  0.        ,  0.        ,\n",
       "         0.        ,  0.        ,  0.        ,  0.        ,  0.        ,\n",
       "         0.        ,  0.        ,  0.        ,  0.        ,  0.        ,\n",
       "         0.        ],\n",
       "       [ 0.        ,  0.        ,  0.        ,  0.        ,  0.        ,\n",
       "         0.        , -0.25      , -0.25      ,  0.        ,  0.05      ,\n",
       "         0.05      ,  0.        , -0.05      , -0.05      ,  0.        ,\n",
       "         0.        ,  0.        ,  0.        , -0.75      ,  0.25      ,\n",
       "         0.        ,  0.05      ,  0.05      ,  0.        , -0.05      ,\n",
       "        -0.05      ,  0.        ,  0.1       ,  0.05      ,  0.        ,\n",
       "         0.        ,  0.        ,  0.        ,  0.        ,  0.        ,\n",
       "         0.        ]])"
      ]
     },
     "execution_count": 16,
     "metadata": {},
     "output_type": "execute_result"
    }
   ],
   "source": [
    "data"
   ]
  },
  {
   "cell_type": "code",
   "execution_count": null,
   "metadata": {
    "collapsed": true
   },
   "outputs": [],
   "source": [
    "# Test_3"
   ]
  },
  {
   "cell_type": "code",
   "execution_count": 4,
   "metadata": {},
   "outputs": [
    {
     "name": "stdout",
     "output_type": "stream",
     "text": [
      "Which one?\n",
      "Ctrip_htl_ba_4000\n",
      "neg/pos?\n",
      "neg\n",
      "Which one?\n",
      "Ctrip_htl_ba_4000\n",
      "neg/pos?\n",
      "pos\n"
     ]
    }
   ],
   "source": [
    "data1 = combine_neg_pos_data(2000)"
   ]
  },
  {
   "cell_type": "code",
   "execution_count": 5,
   "metadata": {},
   "outputs": [
    {
     "data": {
      "text/plain": [
       "array([[-0.22727273, -0.22727273,  0.        , ...,  0.        ,\n",
       "         0.        ,  0.        ],\n",
       "       [-0.35294118, -0.35294118,  0.        , ...,  0.        ,\n",
       "         0.        ,  0.        ],\n",
       "       [ 0.4516129 ,  0.22580645,  0.        , ...,  0.        ,\n",
       "         0.        ,  0.        ],\n",
       "       ...,\n",
       "       [ 0.        ,  0.        ,  0.        , ...,  0.        ,\n",
       "         0.        ,  0.        ],\n",
       "       [ 0.35714286,  0.35714286,  0.        , ...,  0.        ,\n",
       "         0.        ,  0.        ],\n",
       "       [ 0.09090909,  0.09090909,  0.        , ...,  0.        ,\n",
       "         0.        ,  0.        ]])"
      ]
     },
     "execution_count": 5,
     "metadata": {},
     "output_type": "execute_result"
    }
   ],
   "source": [
    "data1"
   ]
  },
  {
   "cell_type": "code",
   "execution_count": 90,
   "metadata": {},
   "outputs": [
    {
     "data": {
      "text/plain": [
       "4000"
      ]
     },
     "execution_count": 90,
     "metadata": {},
     "output_type": "execute_result"
    }
   ],
   "source": [
    "len(data1)"
   ]
  },
  {
   "cell_type": "code",
   "execution_count": 91,
   "metadata": {},
   "outputs": [
    {
     "data": {
      "text/plain": [
       "561"
      ]
     },
     "execution_count": 91,
     "metadata": {},
     "output_type": "execute_result"
    }
   ],
   "source": [
    "len(data1[0])"
   ]
  },
  {
   "cell_type": "code",
   "execution_count": 92,
   "metadata": {
    "collapsed": true
   },
   "outputs": [],
   "source": [
    "neg_data = data1[:2000]\n",
    "pos_data = data1[2000:]"
   ]
  },
  {
   "cell_type": "code",
   "execution_count": 93,
   "metadata": {
    "collapsed": true
   },
   "outputs": [],
   "source": [
    "train_data =  np.vstack((neg_data[:1400], pos_data[:1400]))\n",
    "test_data = np.vstack((neg_data[1400:], pos_data[1400:]))"
   ]
  },
  {
   "cell_type": "code",
   "execution_count": 94,
   "metadata": {},
   "outputs": [
    {
     "data": {
      "text/plain": [
       "2800"
      ]
     },
     "execution_count": 94,
     "metadata": {},
     "output_type": "execute_result"
    }
   ],
   "source": [
    "len(train_data)"
   ]
  },
  {
   "cell_type": "code",
   "execution_count": 95,
   "metadata": {},
   "outputs": [
    {
     "data": {
      "text/plain": [
       "1200"
      ]
     },
     "execution_count": 95,
     "metadata": {},
     "output_type": "execute_result"
    }
   ],
   "source": [
    "len(test_data)"
   ]
  },
  {
   "cell_type": "code",
   "execution_count": 96,
   "metadata": {
    "collapsed": true
   },
   "outputs": [],
   "source": [
    "train_labels = [0]*1400 + [1]*1400"
   ]
  },
  {
   "cell_type": "code",
   "execution_count": 97,
   "metadata": {
    "collapsed": true
   },
   "outputs": [],
   "source": [
    "test_labels = [0]*600 + [1]*600"
   ]
  },
  {
   "cell_type": "code",
   "execution_count": 33,
   "metadata": {},
   "outputs": [
    {
     "data": {
      "text/plain": [
       "SVC(C=1.0, cache_size=200, class_weight=None, coef0=0.0,\n",
       "  decision_function_shape=None, degree=3, gamma='auto', kernel='linear',\n",
       "  max_iter=-1, probability=False, random_state=None, shrinking=True,\n",
       "  tol=0.001, verbose=False)"
      ]
     },
     "execution_count": 33,
     "metadata": {},
     "output_type": "execute_result"
    }
   ],
   "source": [
    "from sklearn import svm \n",
    "\n",
    "clf = svm.SVC(kernel = 'linear') #SVM模块，svc,线性核函数 \n",
    "clf.fit(train_data, train_labels) "
   ]
  },
  {
   "cell_type": "code",
   "execution_count": 34,
   "metadata": {},
   "outputs": [
    {
     "data": {
      "text/plain": [
       "0.7366666666666667"
      ]
     },
     "execution_count": 34,
     "metadata": {},
     "output_type": "execute_result"
    }
   ],
   "source": [
    "from sklearn.metrics import accuracy_score\n",
    "\n",
    "predict_test = clf.predict(test_data)\n",
    "accuracy_score(test_labels, predict_test)"
   ]
  },
  {
   "cell_type": "code",
   "execution_count": 35,
   "metadata": {},
   "outputs": [
    {
     "data": {
      "text/plain": [
       "array([[485, 115],\n",
       "       [201, 399]])"
      ]
     },
     "execution_count": 35,
     "metadata": {},
     "output_type": "execute_result"
    }
   ],
   "source": [
    "from sklearn.metrics import confusion_matrix\n",
    "\n",
    "confusion_matrix(test_labels, predict_test)"
   ]
  },
  {
   "cell_type": "code",
   "execution_count": 41,
   "metadata": {},
   "outputs": [
    {
     "name": "stdout",
     "output_type": "stream",
     "text": [
      "             precision    recall  f1-score   support\n",
      "\n",
      "          1       0.71      0.81      0.75       600\n",
      "          0       0.78      0.67      0.72       600\n",
      "\n",
      "avg / total       0.74      0.74      0.74      1200\n",
      "\n"
     ]
    }
   ],
   "source": [
    "from sklearn.metrics import classification_report\n",
    "\n",
    "target_names = ['1', '0']\n",
    "print (classification_report(test_labels, predict_test, target_names=target_names))"
   ]
  },
  {
   "cell_type": "code",
   "execution_count": 42,
   "metadata": {
    "collapsed": true
   },
   "outputs": [],
   "source": [
    "from sklearn import metrics"
   ]
  },
  {
   "cell_type": "code",
   "execution_count": 43,
   "metadata": {},
   "outputs": [
    {
     "data": {
      "text/plain": [
       "0.7762645914396887"
      ]
     },
     "execution_count": 43,
     "metadata": {},
     "output_type": "execute_result"
    }
   ],
   "source": [
    "metrics.precision_score(test_labels, predict_test)"
   ]
  },
  {
   "cell_type": "code",
   "execution_count": 44,
   "metadata": {},
   "outputs": [
    {
     "data": {
      "text/plain": [
       "0.665"
      ]
     },
     "execution_count": 44,
     "metadata": {},
     "output_type": "execute_result"
    }
   ],
   "source": [
    "metrics.recall_score(test_labels, predict_test)"
   ]
  },
  {
   "cell_type": "code",
   "execution_count": 45,
   "metadata": {},
   "outputs": [
    {
     "data": {
      "text/plain": [
       "0.7163375224416517"
      ]
     },
     "execution_count": 45,
     "metadata": {},
     "output_type": "execute_result"
    }
   ],
   "source": [
    "metrics.f1_score(test_labels, predict_test) "
   ]
  },
  {
   "cell_type": "code",
   "execution_count": null,
   "metadata": {
    "collapsed": true
   },
   "outputs": [],
   "source": []
  },
  {
   "cell_type": "code",
   "execution_count": 212,
   "metadata": {},
   "outputs": [
    {
     "data": {
      "text/plain": [
       "RandomForestRegressor(bootstrap=True, criterion='mse', max_depth=None,\n",
       "           max_features='auto', max_leaf_nodes=None, min_samples_leaf=1,\n",
       "           min_samples_split=2, min_weight_fraction_leaf=0.0,\n",
       "           n_estimators=10, n_jobs=1, oob_score=False, random_state=None,\n",
       "           verbose=0, warm_start=False)"
      ]
     },
     "execution_count": 212,
     "metadata": {},
     "output_type": "execute_result"
    }
   ],
   "source": [
    "from sklearn.tree import DecisionTreeRegressor\n",
    "from sklearn.ensemble import RandomForestRegressor\n",
    "\n",
    "rf=RandomForestRegressor()#这里使用了默认的参数设置\n",
    "rf.fit(train_data, train_labels)"
   ]
  },
  {
   "cell_type": "code",
   "execution_count": 213,
   "metadata": {},
   "outputs": [],
   "source": [
    "predict_test = rf.predict(test_data)"
   ]
  },
  {
   "cell_type": "code",
   "execution_count": 214,
   "metadata": {},
   "outputs": [],
   "source": [
    "for i in range(len(predict_test)): \n",
    "    if predict_test[i] <= 0.5:\n",
    "        predict_test[i] = 0"
   ]
  },
  {
   "cell_type": "code",
   "execution_count": 215,
   "metadata": {
    "collapsed": true
   },
   "outputs": [],
   "source": [
    "for i in range(len(predict_test)): \n",
    "    if predict_test[i] != 0:\n",
    "        predict_test[i] = 1"
   ]
  },
  {
   "cell_type": "code",
   "execution_count": 216,
   "metadata": {},
   "outputs": [
    {
     "data": {
      "text/plain": [
       "array([0., 0., 0., ..., 1., 1., 1.])"
      ]
     },
     "execution_count": 216,
     "metadata": {},
     "output_type": "execute_result"
    }
   ],
   "source": [
    "predict_test"
   ]
  },
  {
   "cell_type": "code",
   "execution_count": 217,
   "metadata": {},
   "outputs": [
    {
     "data": {
      "text/plain": [
       "0.87"
      ]
     },
     "execution_count": 217,
     "metadata": {},
     "output_type": "execute_result"
    }
   ],
   "source": [
    "from sklearn.metrics import accuracy_score\n",
    "\n",
    "accuracy_score(test_labels, predict_test)"
   ]
  },
  {
   "cell_type": "code",
   "execution_count": 218,
   "metadata": {},
   "outputs": [
    {
     "data": {
      "text/plain": [
       "array([[582,  18],\n",
       "       [138, 462]])"
      ]
     },
     "execution_count": 218,
     "metadata": {},
     "output_type": "execute_result"
    }
   ],
   "source": [
    "from sklearn.metrics import confusion_matrix\n",
    "\n",
    "confusion_matrix(test_labels, predict_test)"
   ]
  },
  {
   "cell_type": "code",
   "execution_count": 219,
   "metadata": {},
   "outputs": [
    {
     "name": "stdout",
     "output_type": "stream",
     "text": [
      "             precision    recall  f1-score   support\n",
      "\n",
      "          1       0.81      0.97      0.88       600\n",
      "          0       0.96      0.77      0.86       600\n",
      "\n",
      "avg / total       0.89      0.87      0.87      1200\n",
      "\n"
     ]
    }
   ],
   "source": [
    "from sklearn.metrics import classification_report\n",
    "\n",
    "target_names = ['1', '0']\n",
    "print (classification_report(test_labels, predict_test, target_names=target_names))"
   ]
  },
  {
   "cell_type": "code",
   "execution_count": 220,
   "metadata": {
    "collapsed": true
   },
   "outputs": [],
   "source": [
    "from sklearn import metrics"
   ]
  },
  {
   "cell_type": "code",
   "execution_count": 221,
   "metadata": {},
   "outputs": [
    {
     "data": {
      "text/plain": [
       "0.9625"
      ]
     },
     "execution_count": 221,
     "metadata": {},
     "output_type": "execute_result"
    }
   ],
   "source": [
    "metrics.precision_score(test_labels, predict_test)"
   ]
  },
  {
   "cell_type": "code",
   "execution_count": 222,
   "metadata": {},
   "outputs": [
    {
     "data": {
      "text/plain": [
       "0.77"
      ]
     },
     "execution_count": 222,
     "metadata": {},
     "output_type": "execute_result"
    }
   ],
   "source": [
    "metrics.recall_score(test_labels, predict_test)"
   ]
  },
  {
   "cell_type": "code",
   "execution_count": 223,
   "metadata": {},
   "outputs": [
    {
     "data": {
      "text/plain": [
       "0.8555555555555556"
      ]
     },
     "execution_count": 223,
     "metadata": {},
     "output_type": "execute_result"
    }
   ],
   "source": [
    "metrics.f1_score(test_labels, predict_test) "
   ]
  },
  {
   "cell_type": "code",
   "execution_count": null,
   "metadata": {
    "collapsed": true
   },
   "outputs": [],
   "source": []
  },
  {
   "cell_type": "code",
   "execution_count": 46,
   "metadata": {},
   "outputs": [],
   "source": [
    "from keras.models import Sequential\n",
    "from keras.layers import Dense, Dropout"
   ]
  },
  {
   "cell_type": "code",
   "execution_count": 200,
   "metadata": {},
   "outputs": [
    {
     "name": "stdout",
     "output_type": "stream",
     "text": [
      "Train on 2520 samples, validate on 280 samples\n",
      "Epoch 1/10\n",
      "2520/2520 [==============================] - 1s 399us/step - loss: 0.6458 - acc: 0.6345 - val_loss: 0.7432 - val_acc: 0.6214\n",
      "Epoch 2/10\n",
      "2520/2520 [==============================] - 0s 139us/step - loss: 0.6126 - acc: 0.6996 - val_loss: 0.6707 - val_acc: 0.7107\n",
      "Epoch 3/10\n",
      "2520/2520 [==============================] - 0s 137us/step - loss: 0.6137 - acc: 0.7091 - val_loss: 0.7222 - val_acc: 0.6643\n",
      "Epoch 4/10\n",
      "2520/2520 [==============================] - 0s 137us/step - loss: 0.6116 - acc: 0.7190 - val_loss: 0.6676 - val_acc: 0.6750\n",
      "Epoch 5/10\n",
      "2520/2520 [==============================] - 0s 137us/step - loss: 0.6103 - acc: 0.7190 - val_loss: 0.7127 - val_acc: 0.6607\n",
      "Epoch 6/10\n",
      "2520/2520 [==============================] - 0s 137us/step - loss: 0.6235 - acc: 0.7194 - val_loss: 0.7522 - val_acc: 0.6393\n",
      "Epoch 7/10\n",
      "2520/2520 [==============================] - 0s 137us/step - loss: 0.6168 - acc: 0.7230 - val_loss: 0.7219 - val_acc: 0.6393\n",
      "Epoch 8/10\n",
      "2520/2520 [==============================] - 0s 135us/step - loss: 0.6242 - acc: 0.7210 - val_loss: 0.7022 - val_acc: 0.6393\n",
      "Epoch 9/10\n",
      "2520/2520 [==============================] - 0s 138us/step - loss: 0.6252 - acc: 0.7238 - val_loss: 0.7072 - val_acc: 0.6393\n",
      "Epoch 10/10\n",
      "2520/2520 [==============================] - 0s 151us/step - loss: 0.6145 - acc: 0.7313 - val_loss: 0.7208 - val_acc: 0.6250\n",
      "1200/1200 [==============================] - 0s 62us/step\n"
     ]
    }
   ],
   "source": [
    "model = Sequential()\n",
    "model.add(Dense(64, input_dim=96, activation='relu'))\n",
    "model.add(Dropout(0.5))\n",
    "model.add(Dense(64, activation='relu'))\n",
    "model.add(Dropout(0.5))\n",
    "model.add(Dense(1, activation='sigmoid'))\n",
    "\n",
    "model.compile(loss='binary_crossentropy',\n",
    "              optimizer='rmsprop',\n",
    "              metrics=['accuracy'])\n",
    "history = model.fit(train_data, train_labels,\n",
    "          epochs=10, batch_size=5,shuffle=True, validation_split=0.1,verbose=1)\n",
    "score = model.evaluate(test_data, test_labels, batch_size=5)"
   ]
  },
  {
   "cell_type": "code",
   "execution_count": 201,
   "metadata": {},
   "outputs": [
    {
     "name": "stdout",
     "output_type": "stream",
     "text": [
      "Test score: 0.6120954566945632\n",
      "Test accuracy: 0.7208333447575569\n"
     ]
    }
   ],
   "source": [
    "#评估模型\n",
    "print('Test score:', score[0])\n",
    "print('Test accuracy:', score[1])"
   ]
  },
  {
   "cell_type": "code",
   "execution_count": 202,
   "metadata": {
    "collapsed": true
   },
   "outputs": [],
   "source": [
    "predict_test = model.predict_classes(test_data)"
   ]
  },
  {
   "cell_type": "code",
   "execution_count": 203,
   "metadata": {},
   "outputs": [
    {
     "data": {
      "text/plain": [
       "0.7208333333333333"
      ]
     },
     "execution_count": 203,
     "metadata": {},
     "output_type": "execute_result"
    }
   ],
   "source": [
    "from sklearn.metrics import accuracy_score\n",
    "\n",
    "accuracy_score(test_labels, predict_test)"
   ]
  },
  {
   "cell_type": "code",
   "execution_count": 204,
   "metadata": {},
   "outputs": [
    {
     "data": {
      "text/plain": [
       "array([[488, 112],\n",
       "       [223, 377]])"
      ]
     },
     "execution_count": 204,
     "metadata": {},
     "output_type": "execute_result"
    }
   ],
   "source": [
    "from sklearn.metrics import confusion_matrix\n",
    "\n",
    "confusion_matrix(test_labels, predict_test)"
   ]
  },
  {
   "cell_type": "code",
   "execution_count": 205,
   "metadata": {},
   "outputs": [
    {
     "name": "stdout",
     "output_type": "stream",
     "text": [
      "             precision    recall  f1-score   support\n",
      "\n",
      "          1       0.69      0.81      0.74       600\n",
      "          0       0.77      0.63      0.69       600\n",
      "\n",
      "avg / total       0.73      0.72      0.72      1200\n",
      "\n"
     ]
    }
   ],
   "source": [
    "from sklearn.metrics import classification_report\n",
    "\n",
    "target_names = ['1', '0']\n",
    "print (classification_report(test_labels, predict_test, target_names=target_names))"
   ]
  },
  {
   "cell_type": "code",
   "execution_count": 206,
   "metadata": {
    "collapsed": true
   },
   "outputs": [],
   "source": [
    "from sklearn import metrics"
   ]
  },
  {
   "cell_type": "code",
   "execution_count": 207,
   "metadata": {},
   "outputs": [
    {
     "data": {
      "text/plain": [
       "0.7709611451942741"
      ]
     },
     "execution_count": 207,
     "metadata": {},
     "output_type": "execute_result"
    }
   ],
   "source": [
    "metrics.precision_score(test_labels, predict_test)"
   ]
  },
  {
   "cell_type": "code",
   "execution_count": 208,
   "metadata": {},
   "outputs": [
    {
     "data": {
      "text/plain": [
       "0.6283333333333333"
      ]
     },
     "execution_count": 208,
     "metadata": {},
     "output_type": "execute_result"
    }
   ],
   "source": [
    "metrics.recall_score(test_labels, predict_test)"
   ]
  },
  {
   "cell_type": "code",
   "execution_count": 209,
   "metadata": {},
   "outputs": [
    {
     "data": {
      "text/plain": [
       "0.6923783287419651"
      ]
     },
     "execution_count": 209,
     "metadata": {},
     "output_type": "execute_result"
    }
   ],
   "source": [
    "metrics.f1_score(test_labels, predict_test) "
   ]
  },
  {
   "cell_type": "code",
   "execution_count": 210,
   "metadata": {},
   "outputs": [
    {
     "data": {
      "image/png": "[encoded data removed]",
      "text/plain": [
       "<matplotlib.figure.Figure at 0x3ca14240>"
      ]
     },
     "metadata": {},
     "output_type": "display_data"
    }
   ],
   "source": [
    "import matplotlib.pyplot as plt\n",
    "\n",
    "f, (ax1, ax2) = plt.subplots(1, 2, figsize=(10, 4))\n",
    "t = f.suptitle('Deep Nerual Net Performance', fontsize=12)\n",
    "f.subplots_adjust(top=0.85, wspace=0.3)\n",
    "\n",
    "epochs = list(range(1, 11))\n",
    "ax1.plot(epochs, history.history['acc'], label = 'Train Accuracy')\n",
    "ax1.plot(epochs, history.history['val_acc'], label = 'Validation Accuracy')\n",
    "ax1.set_xticks(epochs)\n",
    "ax1.set_ylabel('Accuracy Value')\n",
    "ax1.set_xlabel('Epoch')\n",
    "ax1.set_title('Accuracy')\n",
    "l1 = ax1.legend(loc = 'best')\n",
    "\n",
    "ax2.plot(epochs, history.history['loss'], label = 'Train Loss')\n",
    "ax2.plot(epochs, history.history['val_loss'], label = 'Validation Loss')\n",
    "ax2.set_xticks(epochs)\n",
    "ax2.set_ylabel('Loss Value')\n",
    "ax2.set_xlabel('Epoch')\n",
    "ax2.set_title('Loss')\n",
    "l2 = ax2.legend(loc = 'best')\n",
    "\n",
    "plt.show()"
   ]
  },
  {
   "cell_type": "code",
   "execution_count": null,
   "metadata": {
    "collapsed": true
   },
   "outputs": [],
   "source": []
  },
  {
   "cell_type": "code",
   "execution_count": 136,
   "metadata": {},
   "outputs": [
    {
     "name": "stdout",
     "output_type": "stream",
     "text": [
      "Which one?\n",
      "Dangdang_Book_4000\n",
      "neg/pos?\n",
      "neg\n",
      "IndexError in postion1373\n",
      "Which one?\n",
      "Dangdang_Book_4000\n",
      "neg/pos?\n",
      "pos\n",
      "IndexError in postion720\n"
     ]
    }
   ],
   "source": [
    "data2 = combine_neg_pos_data(2000)"
   ]
  },
  {
   "cell_type": "code",
   "execution_count": 137,
   "metadata": {},
   "outputs": [
    {
     "data": {
      "text/plain": [
       "array([[ 0.07692308,  0.03846154,  0.        , ...,  0.        ,\n",
       "         0.        ,  0.        ],\n",
       "       [-0.20833333, -0.20833333,  0.        , ...,  0.        ,\n",
       "         0.        ,  0.        ],\n",
       "       [ 0.53846154,  0.53846154,  0.        , ...,  0.        ,\n",
       "         0.        ,  0.        ],\n",
       "       ...,\n",
       "       [ 0.04166667,  0.04166667,  0.        , ...,  0.        ,\n",
       "         0.        ,  0.        ],\n",
       "       [ 0.        ,  0.        ,  0.        , ...,  0.        ,\n",
       "         0.        ,  0.        ],\n",
       "       [-0.02702703, -0.02702703,  0.        , ...,  0.        ,\n",
       "         0.        ,  0.        ]])"
      ]
     },
     "execution_count": 137,
     "metadata": {},
     "output_type": "execute_result"
    }
   ],
   "source": [
    "data2"
   ]
  },
  {
   "cell_type": "code",
   "execution_count": 138,
   "metadata": {},
   "outputs": [
    {
     "data": {
      "text/plain": [
       "4000"
      ]
     },
     "execution_count": 138,
     "metadata": {},
     "output_type": "execute_result"
    }
   ],
   "source": [
    "len(data2)"
   ]
  },
  {
   "cell_type": "code",
   "execution_count": 139,
   "metadata": {},
   "outputs": [
    {
     "data": {
      "text/plain": [
       "129"
      ]
     },
     "execution_count": 139,
     "metadata": {},
     "output_type": "execute_result"
    }
   ],
   "source": [
    "len(data2[0])"
   ]
  },
  {
   "cell_type": "code",
   "execution_count": 211,
   "metadata": {
    "collapsed": true
   },
   "outputs": [],
   "source": [
    "neg_data = data2[:2000]\n",
    "pos_data = data2[2000:]\n",
    "train_data =  np.vstack((neg_data[:1400], pos_data[:1400]))\n",
    "test_data = np.vstack((neg_data[1400:], pos_data[1400:]))\n",
    "train_labels = [0]*1400 + [1]*1400\n",
    "test_labels = [0]*600 + [1]*600"
   ]
  },
  {
   "cell_type": "code",
   "execution_count": 179,
   "metadata": {},
   "outputs": [
    {
     "data": {
      "text/plain": [
       "SVC(C=1.0, cache_size=200, class_weight=None, coef0=0.0,\n",
       "  decision_function_shape=None, degree=3, gamma='auto', kernel='linear',\n",
       "  max_iter=-1, probability=False, random_state=None, shrinking=True,\n",
       "  tol=0.001, verbose=False)"
      ]
     },
     "execution_count": 179,
     "metadata": {},
     "output_type": "execute_result"
    }
   ],
   "source": [
    "from sklearn import svm \n",
    "\n",
    "clf = svm.SVC(kernel = 'linear') #SVM模块，svc,线性核函数 \n",
    "clf.fit(train_data, train_labels)"
   ]
  },
  {
   "cell_type": "code",
   "execution_count": 180,
   "metadata": {},
   "outputs": [
    {
     "data": {
      "text/plain": [
       "0.7141666666666666"
      ]
     },
     "execution_count": 180,
     "metadata": {},
     "output_type": "execute_result"
    }
   ],
   "source": [
    "from sklearn.metrics import accuracy_score\n",
    "\n",
    "predict_test = clf.predict(test_data)\n",
    "accuracy_score(test_labels, predict_test)"
   ]
  },
  {
   "cell_type": "code",
   "execution_count": 181,
   "metadata": {},
   "outputs": [
    {
     "data": {
      "text/plain": [
       "array([[423, 177],\n",
       "       [166, 434]])"
      ]
     },
     "execution_count": 181,
     "metadata": {},
     "output_type": "execute_result"
    }
   ],
   "source": [
    "from sklearn.metrics import confusion_matrix\n",
    "\n",
    "confusion_matrix(test_labels, predict_test)"
   ]
  },
  {
   "cell_type": "code",
   "execution_count": 182,
   "metadata": {},
   "outputs": [
    {
     "name": "stdout",
     "output_type": "stream",
     "text": [
      "             precision    recall  f1-score   support\n",
      "\n",
      "          1       0.72      0.70      0.71       600\n",
      "          0       0.71      0.72      0.72       600\n",
      "\n",
      "avg / total       0.71      0.71      0.71      1200\n",
      "\n"
     ]
    }
   ],
   "source": [
    "from sklearn.metrics import classification_report\n",
    "\n",
    "target_names = ['1', '0']\n",
    "print (classification_report(test_labels, predict_test, target_names=target_names))"
   ]
  },
  {
   "cell_type": "code",
   "execution_count": 183,
   "metadata": {
    "collapsed": true
   },
   "outputs": [],
   "source": [
    "from sklearn import metrics"
   ]
  },
  {
   "cell_type": "code",
   "execution_count": 184,
   "metadata": {},
   "outputs": [
    {
     "data": {
      "text/plain": [
       "0.7103109656301145"
      ]
     },
     "execution_count": 184,
     "metadata": {},
     "output_type": "execute_result"
    }
   ],
   "source": [
    "metrics.precision_score(test_labels, predict_test)"
   ]
  },
  {
   "cell_type": "code",
   "execution_count": 185,
   "metadata": {},
   "outputs": [
    {
     "data": {
      "text/plain": [
       "0.7233333333333334"
      ]
     },
     "execution_count": 185,
     "metadata": {},
     "output_type": "execute_result"
    }
   ],
   "source": [
    "metrics.recall_score(test_labels, predict_test)"
   ]
  },
  {
   "cell_type": "code",
   "execution_count": 186,
   "metadata": {},
   "outputs": [
    {
     "data": {
      "text/plain": [
       "0.7167630057803469"
      ]
     },
     "execution_count": 186,
     "metadata": {},
     "output_type": "execute_result"
    }
   ],
   "source": [
    "metrics.f1_score(test_labels, predict_test) "
   ]
  },
  {
   "cell_type": "code",
   "execution_count": null,
   "metadata": {
    "collapsed": true
   },
   "outputs": [],
   "source": []
  },
  {
   "cell_type": "code",
   "execution_count": 173,
   "metadata": {},
   "outputs": [
    {
     "name": "stdout",
     "output_type": "stream",
     "text": [
      "Which one?\n",
      "Jingdong_NB_4000\n",
      "neg/pos?\n",
      "neg\n",
      "Which one?\n",
      "Jingdong_NB_4000\n",
      "neg/pos?\n",
      "pos\n"
     ]
    }
   ],
   "source": [
    "data3 = combine_neg_pos_data(2000)"
   ]
  },
  {
   "cell_type": "code",
   "execution_count": 174,
   "metadata": {},
   "outputs": [
    {
     "data": {
      "text/plain": [
       "array([[ 0.        ,  0.        ,  0.        , ...,  0.        ,\n",
       "         0.        ,  0.        ],\n",
       "       [ 0.45454545,  0.45454545,  0.        , ...,  0.        ,\n",
       "         0.        ,  0.        ],\n",
       "       [-0.35714286, -0.35714286,  0.        , ...,  0.        ,\n",
       "         0.        ,  0.        ],\n",
       "       ...,\n",
       "       [ 0.11111111,  0.11111111,  0.        , ...,  0.        ,\n",
       "         0.        ,  0.        ],\n",
       "       [ 0.16666667,  0.08333333,  0.        , ...,  0.        ,\n",
       "         0.        ,  0.        ],\n",
       "       [ 0.14285714,  0.07142857,  0.        , ...,  0.        ,\n",
       "         0.        ,  0.        ]])"
      ]
     },
     "execution_count": 174,
     "metadata": {},
     "output_type": "execute_result"
    }
   ],
   "source": [
    "data3"
   ]
  },
  {
   "cell_type": "code",
   "execution_count": 175,
   "metadata": {},
   "outputs": [
    {
     "data": {
      "text/plain": [
       "4000"
      ]
     },
     "execution_count": 175,
     "metadata": {},
     "output_type": "execute_result"
    }
   ],
   "source": [
    "len(data3)"
   ]
  },
  {
   "cell_type": "code",
   "execution_count": 177,
   "metadata": {},
   "outputs": [
    {
     "data": {
      "text/plain": [
       "96"
      ]
     },
     "execution_count": 177,
     "metadata": {},
     "output_type": "execute_result"
    }
   ],
   "source": [
    "len(data3[0])"
   ]
  },
  {
   "cell_type": "code",
   "execution_count": 178,
   "metadata": {
    "collapsed": true
   },
   "outputs": [],
   "source": [
    "neg_data = data3[:2000]\n",
    "pos_data = data3[2000:]\n",
    "train_data =  np.vstack((neg_data[:1400], pos_data[:1400]))\n",
    "test_data = np.vstack((neg_data[1400:], pos_data[1400:]))\n",
    "train_labels = [0]*1400 + [1]*1400\n",
    "test_labels = [0]*600 + [1]*600"
   ]
  },
  {
   "cell_type": "code",
   "execution_count": null,
   "metadata": {
    "collapsed": true
   },
   "outputs": [],
   "source": []
  }
 ],
 "metadata": {
  "anaconda-cloud": {},
  "kernelspec": {
   "display_name": "Python 3",
   "language": "python",
   "name": "python3"
  },
  "language_info": {
   "codemirror_mode": {
    "name": "ipython",
    "version": 3
   },
   "file_extension": ".py",
   "mimetype": "text/x-python",
   "name": "python",
   "nbconvert_exporter": "python",
   "pygments_lexer": "ipython3",
   "version": "3.6.5"
  }
 },
 "nbformat": 4,
 "nbformat_minor": 2
}
