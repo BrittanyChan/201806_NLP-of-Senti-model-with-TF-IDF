{
 "cells": [
  {
   "cell_type": "code",
   "execution_count": 1,
   "metadata": {},
   "outputs": [],
   "source": [
    "def readnegfile_withoutstop(i):\n",
    "    text=open('neg.'+str(i)+'.withoutstop.txt',encoding = 'utf-8').read()\n",
    "    return text\n",
    "\n",
    "if __name__ == '__main__':\n",
    "    list_text_withoutstop=[]\n",
    "    for i in range(11):\n",
    "        list_text_withoutstop.append(readnegfile_withoutstop(i))"
   ]
  },
  {
   "cell_type": "code",
   "execution_count": 2,
   "metadata": {},
   "outputs": [],
   "source": [
    "list_text_withoutstop = [i.strip() for i in list_text_withoutstop]"
   ]
  },
  {
   "cell_type": "code",
   "execution_count": 3,
   "metadata": {},
   "outputs": [],
   "source": [
    "import numpy as np\n",
    "\n",
    "from sklearn.feature_extraction.text import CountVectorizer\n",
    "from sklearn.feature_extraction.text import TfidfTransformer\n",
    "\n",
    "def sklearn_tfidf():\n",
    "\tvectorizer = CountVectorizer() #将文本中的词语转换为词频矩阵\n",
    "\tX = vectorizer.fit_transform(list_text_withoutstop) #计算个词语出现的次数\n",
    "\t\n",
    "\ttransformer = TfidfTransformer()\n",
    "\ttfidf = transformer.fit_transform(X) #将词频矩阵X统计成TF-IDF\n",
    "\treturn (tfidf.toarray())"
   ]
  },
  {
   "cell_type": "code",
   "execution_count": 4,
   "metadata": {},
   "outputs": [],
   "source": [
    "data = sklearn_tfidf()"
   ]
  },
  {
   "cell_type": "code",
   "execution_count": 5,
   "metadata": {},
   "outputs": [],
   "source": [
    "train_data = data[:7]\n",
    "test_data = data[7:]"
   ]
  },
  {
   "cell_type": "code",
   "execution_count": 6,
   "metadata": {},
   "outputs": [
    {
     "data": {
      "text/plain": [
       "159"
      ]
     },
     "execution_count": 6,
     "metadata": {},
     "output_type": "execute_result"
    }
   ],
   "source": [
    "len(train_data[0])"
   ]
  },
  {
   "cell_type": "code",
   "execution_count": 7,
   "metadata": {},
   "outputs": [
    {
     "data": {
      "text/plain": [
       "7"
      ]
     },
     "execution_count": 7,
     "metadata": {},
     "output_type": "execute_result"
    }
   ],
   "source": [
    "len(train_data)"
   ]
  },
  {
   "cell_type": "code",
   "execution_count": 8,
   "metadata": {},
   "outputs": [],
   "source": [
    "labels=[0, 0, 1, 0, 0, 1, 0]"
   ]
  },
  {
   "cell_type": "code",
   "execution_count": 9,
   "metadata": {},
   "outputs": [
    {
     "data": {
      "text/plain": [
       "array([[0.58794749, 0.41205251],\n",
       "       [0.52291256, 0.47708744],\n",
       "       [0.51378501, 0.48621499],\n",
       "       [0.51454853, 0.48545147]])"
      ]
     },
     "execution_count": 9,
     "metadata": {},
     "output_type": "execute_result"
    }
   ],
   "source": [
    "from sklearn.linear_model.logistic import LogisticRegression\n",
    "import numpy\n",
    "    \n",
    "#初始化LogisticRegression模型\n",
    "log_reg= LogisticRegression(class_weight=\"balanced\")\n",
    "# 训练模型\n",
    "log_reg.fit(train_data, numpy.asarray(labels))\n",
    "# 根据输入预测\n",
    "log_reg.predict_proba(test_data)"
   ]
  },
  {
   "cell_type": "code",
   "execution_count": 10,
   "metadata": {},
   "outputs": [
    {
     "name": "stdout",
     "output_type": "stream",
     "text": [
      "[0 0 0 0]\n"
     ]
    }
   ],
   "source": [
    "from sklearn import svm \n",
    "\n",
    "clf = svm.SVC(kernel = 'linear') #SVM模块，svc,线性核函数 \n",
    "clf.fit(train_data, labels) \n",
    "\n",
    "#print(clf) \n",
    "#print(clf.support_vectors_) #支持向量点 \n",
    "#print(clf.support_) #支持向量点的索引 \n",
    "#print(clf.n_support_) #每个class有几个支持向量点 \n",
    "print(clf.predict(test_data))"
   ]
  }
 ],
 "metadata": {
  "kernelspec": {
   "display_name": "Python 3",
   "language": "python",
   "name": "python3"
  },
  "language_info": {
   "codemirror_mode": {
    "name": "ipython",
    "version": 3
   },
   "file_extension": ".py",
   "mimetype": "text/x-python",
   "name": "python",
   "nbconvert_exporter": "python",
   "pygments_lexer": "ipython3",
   "version": "3.6.5"
  }
 },
 "nbformat": 4,
 "nbformat_minor": 2
}
