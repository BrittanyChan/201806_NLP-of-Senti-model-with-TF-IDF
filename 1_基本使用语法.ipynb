{
 "cells": [
  {
   "cell_type": "code",
   "execution_count": null,
   "metadata": {
    "collapsed": true
   },
   "outputs": [],
   "source": [
    "#依存句法分析"
   ]
  },
  {
   "cell_type": "code",
   "execution_count": 1,
   "metadata": {},
   "outputs": [
    {
     "name": "stdout",
     "output_type": "stream",
     "text": [
      "我_0 是_1 SBV\n",
      "是_1 -1 HED\n",
      "中国_2 人_3 ATT\n",
      "人_3 是_1 VOB\n",
      "。_4 人_3 WP\n"
     ]
    }
   ],
   "source": [
    "# -*- coding:utf8 -*-\n",
    "import urllib.request\n",
    "\n",
    "if __name__ == '__main__':\n",
    "    url_get_base = \"https://api.ltp-cloud.com/analysis/\"\n",
    "    args = { \n",
    "        'api_key' : 'd1a9h0l4M5aeMp7H9WdnSgzhPKve0dBTbfsMbhgB',\n",
    "        'text' : '我是中国人。',\n",
    "        'pattern' : 'dp',\n",
    "        'format' : 'plain'\n",
    "    }\n",
    "    result = urllib.request.urlopen(url_get_base, urllib.parse.urlencode(args).encode(encoding='UTF8')) # POST method\n",
    "    content = result.read().strip()\n",
    "    print (content.decode('utf-8'))"
   ]
  },
  {
   "cell_type": "code",
   "execution_count": null,
   "metadata": {
    "collapsed": true
   },
   "outputs": [],
   "source": [
    "#分词"
   ]
  },
  {
   "cell_type": "code",
   "execution_count": 12,
   "metadata": {},
   "outputs": [
    {
     "name": "stdout",
     "output_type": "stream",
     "text": [
      "我 是 中国 人 。\n"
     ]
    }
   ],
   "source": [
    "# -*- coding:utf8 -*-\n",
    "import urllib.request\n",
    "\n",
    "if __name__ == '__main__':\n",
    "    url_get_base = \"https://api.ltp-cloud.com/analysis/\"\n",
    "    args = { \n",
    "        'api_key' : 'd1a9h0l4M5aeMp7H9WdnSgzhPKve0dBTbfsMbhgB',\n",
    "        'text' : '我是中国人。',\n",
    "        'pattern' : 'ws',\n",
    "        'format' : 'plain'\n",
    "    }\n",
    "    result = urllib.request.urlopen(url_get_base, urllib.parse.urlencode(args).encode(encoding='UTF8')) # POST method\n",
    "    content = result.read().strip()\n",
    "    print (content.decode('utf-8'))"
   ]
  },
  {
   "cell_type": "code",
   "execution_count": null,
   "metadata": {
    "collapsed": true
   },
   "outputs": [],
   "source": [
    "#词性标注"
   ]
  },
  {
   "cell_type": "code",
   "execution_count": 13,
   "metadata": {},
   "outputs": [
    {
     "name": "stdout",
     "output_type": "stream",
     "text": [
      "我_r 是_v 中国_ns 人_n 。_wp\n"
     ]
    }
   ],
   "source": [
    "# -*- coding:utf8 -*-\n",
    "import urllib.request\n",
    "\n",
    "if __name__ == '__main__':\n",
    "    url_get_base = \"https://api.ltp-cloud.com/analysis/\"\n",
    "    args = { \n",
    "        'api_key' : 'd1a9h0l4M5aeMp7H9WdnSgzhPKve0dBTbfsMbhgB',\n",
    "        'text' : '我是中国人。',\n",
    "        'pattern' : 'pos',\n",
    "        'format' : 'plain'\n",
    "    }\n",
    "    result = urllib.request.urlopen(url_get_base, urllib.parse.urlencode(args).encode(encoding='UTF8')) # POST method\n",
    "    content = result.read().strip()\n",
    "    print (content.decode('utf-8'))"
   ]
  },
  {
   "cell_type": "code",
   "execution_count": null,
   "metadata": {
    "collapsed": true
   },
   "outputs": [],
   "source": [
    "#命名实体识别"
   ]
  },
  {
   "cell_type": "code",
   "execution_count": 14,
   "metadata": {},
   "outputs": [
    {
     "name": "stdout",
     "output_type": "stream",
     "text": [
      "我 是 [中国]Ns 人 。\n"
     ]
    }
   ],
   "source": [
    "# -*- coding:utf8 -*-\n",
    "import urllib.request\n",
    "\n",
    "if __name__ == '__main__':\n",
    "    url_get_base = \"https://api.ltp-cloud.com/analysis/\"\n",
    "    args = { \n",
    "        'api_key' : 'd1a9h0l4M5aeMp7H9WdnSgzhPKve0dBTbfsMbhgB',\n",
    "        'text' : '我是中国人。',\n",
    "        'pattern' : 'ner',\n",
    "        'format' : 'plain'\n",
    "    }\n",
    "    result = urllib.request.urlopen(url_get_base, urllib.parse.urlencode(args).encode(encoding='UTF8')) # POST method\n",
    "    content = result.read().strip()\n",
    "    print (content.decode('utf-8'))"
   ]
  },
  {
   "cell_type": "code",
   "execution_count": 16,
   "metadata": {},
   "outputs": [
    {
     "name": "stdout",
     "output_type": "stream",
     "text": [
      "中国 Ns\n"
     ]
    }
   ],
   "source": [
    "# -*- coding:utf8 -*-\n",
    "import urllib.request\n",
    "\n",
    "if __name__ == '__main__':\n",
    "    url_get_base = \"https://api.ltp-cloud.com/analysis/\"\n",
    "    args = { \n",
    "        'api_key' : 'd1a9h0l4M5aeMp7H9WdnSgzhPKve0dBTbfsMbhgB',\n",
    "        'text' : '我是中国人。',\n",
    "        'pattern' : 'ner',\n",
    "        'format' : 'plain',\n",
    "        'only_ner' : 'true'\n",
    "    }\n",
    "    result = urllib.request.urlopen(url_get_base, urllib.parse.urlencode(args).encode(encoding='UTF8')) # POST method\n",
    "    content = result.read().strip()\n",
    "    print (content.decode('utf-8'))"
   ]
  },
  {
   "cell_type": "code",
   "execution_count": null,
   "metadata": {
    "collapsed": true
   },
   "outputs": [],
   "source": [
    "#语义依存分析"
   ]
  },
  {
   "cell_type": "code",
   "execution_count": 17,
   "metadata": {},
   "outputs": [
    {
     "name": "stdout",
     "output_type": "stream",
     "text": [
      "我_0 是_1 Exp\n",
      "是_1 -1 Root\n",
      "中国_2 人_3 Nmod\n",
      "人_3 是_1 Clas\n",
      "。_4 是_1 mPunc\n"
     ]
    }
   ],
   "source": [
    "# -*- coding:utf8 -*-\n",
    "import urllib.request\n",
    "\n",
    "if __name__ == '__main__':\n",
    "    url_get_base = \"https://api.ltp-cloud.com/analysis/\"\n",
    "    args = { \n",
    "        'api_key' : 'd1a9h0l4M5aeMp7H9WdnSgzhPKve0dBTbfsMbhgB',\n",
    "        'text' : '我是中国人。',\n",
    "        'pattern' : 'sdp',\n",
    "        'format' : 'plain'\n",
    "    }\n",
    "    result = urllib.request.urlopen(url_get_base, urllib.parse.urlencode(args).encode(encoding='UTF8')) # POST method\n",
    "    content = result.read().strip()\n",
    "    print (content.decode('utf-8'))"
   ]
  },
  {
   "cell_type": "code",
   "execution_count": null,
   "metadata": {
    "collapsed": true
   },
   "outputs": [],
   "source": [
    "#语义角色标注"
   ]
  },
  {
   "cell_type": "code",
   "execution_count": 18,
   "metadata": {},
   "outputs": [
    {
     "name": "stdout",
     "output_type": "stream",
     "text": [
      "[我]A0 [是]v [中国 人]A1 。\n"
     ]
    }
   ],
   "source": [
    "# -*- coding:utf8 -*-\n",
    "import urllib.request\n",
    "\n",
    "if __name__ == '__main__':\n",
    "    url_get_base = \"https://api.ltp-cloud.com/analysis/\"\n",
    "    args = { \n",
    "        'api_key' : 'd1a9h0l4M5aeMp7H9WdnSgzhPKve0dBTbfsMbhgB',\n",
    "        'text' : '我是中国人。',\n",
    "        'pattern' : 'srl',\n",
    "        'format' : 'plain'\n",
    "    }\n",
    "    result = urllib.request.urlopen(url_get_base, urllib.parse.urlencode(args).encode(encoding='UTF8')) # POST method\n",
    "    content = result.read().strip()\n",
    "    print (content.decode('utf-8'))"
   ]
  },
  {
   "cell_type": "code",
   "execution_count": null,
   "metadata": {
    "collapsed": true
   },
   "outputs": [],
   "source": [
    "#XML"
   ]
  },
  {
   "cell_type": "code",
   "execution_count": 19,
   "metadata": {},
   "outputs": [
    {
     "name": "stdout",
     "output_type": "stream",
     "text": [
      "<?xml version=\"1.0\" encoding=\"utf-8\" ?>\n",
      "<xml4nlp>\n",
      "    <note sent=\"y\" word=\"y\" pos=\"y\" ne=\"y\" parser=\"y\" semparser=\"y\" lstmsemparser=\"y\" wsd=\"n\" srl=\"y\" />\n",
      "    <doc>\n",
      "        <para id=\"0\">\n",
      "            <sent id=\"0\" cont=\"我是中国人。\">\n",
      "                <word id=\"0\" cont=\"我\" pos=\"r\" ne=\"O\" parent=\"1\" relate=\"SBV\" semparent=\"1\" semrelate=\"Exp\">\n",
      "                    <sem id=\"0\" parent=\"1\" relate=\"Exp\" />\n",
      "                </word>\n",
      "                <word id=\"1\" cont=\"是\" pos=\"v\" ne=\"O\" parent=\"-1\" relate=\"HED\" semparent=\"-1\" semrelate=\"Root\">\n",
      "                    <arg id=\"0\" type=\"A0\" beg=\"0\" end=\"0\" />\n",
      "                    <arg id=\"1\" type=\"A1\" beg=\"2\" end=\"3\" />\n",
      "                    <sem id=\"0\" parent=\"-1\" relate=\"Root\" />\n",
      "                </word>\n",
      "                <word id=\"2\" cont=\"中国\" pos=\"ns\" ne=\"S-Ns\" parent=\"3\" relate=\"ATT\" semparent=\"3\" semrelate=\"Nmod\">\n",
      "                    <sem id=\"0\" parent=\"3\" relate=\"Nmod\" />\n",
      "                </word>\n",
      "                <word id=\"3\" cont=\"人\" pos=\"n\" ne=\"O\" parent=\"1\" relate=\"VOB\" semparent=\"1\" semrelate=\"Clas\">\n",
      "                    <sem id=\"0\" parent=\"1\" relate=\"Clas\" />\n",
      "                </word>\n",
      "                <word id=\"4\" cont=\"。\" pos=\"wp\" ne=\"O\" parent=\"1\" relate=\"WP\" semparent=\"1\" semrelate=\"mPunc\">\n",
      "                    <sem id=\"0\" parent=\"1\" relate=\"mPunc\" />\n",
      "                </word>\n",
      "            </sent>\n",
      "        </para>\n",
      "    </doc>\n",
      "</xml4nlp>\n"
     ]
    }
   ],
   "source": [
    "# -*- coding:utf8 -*-\n",
    "import urllib.request\n",
    "\n",
    "if __name__ == '__main__':\n",
    "    url_get_base = \"https://api.ltp-cloud.com/analysis/\"\n",
    "    args = { \n",
    "        'api_key' : 'd1a9h0l4M5aeMp7H9WdnSgzhPKve0dBTbfsMbhgB',\n",
    "        'text' : '我是中国人。',\n",
    "        'pattern' : 'all',\n",
    "        'format' : 'xml'\n",
    "    }\n",
    "    result = urllib.request.urlopen(url_get_base, urllib.parse.urlencode(args).encode(encoding='UTF8')) # POST method\n",
    "    content = result.read().strip()\n",
    "    print (content.decode('utf-8'))"
   ]
  },
  {
   "cell_type": "code",
   "execution_count": null,
   "metadata": {
    "collapsed": true
   },
   "outputs": [],
   "source": [
    "#JSON"
   ]
  },
  {
   "cell_type": "code",
   "execution_count": 20,
   "metadata": {},
   "outputs": [
    {
     "name": "stdout",
     "output_type": "stream",
     "text": [
      "[\n",
      " [\n",
      "  [\n",
      "   {\n",
      "    \"id\": 0, \n",
      "    \"cont\": \"我\", \n",
      "    \"pos\": \"r\", \n",
      "    \"ne\": \"O\", \n",
      "    \"parent\": 1, \n",
      "    \"relate\": \"SBV\", \n",
      "    \"semparent\": 1, \n",
      "    \"semrelate\": \"Exp\", \n",
      "    \"arg\": [], \n",
      "    \"sem\": [\n",
      "     {\n",
      "      \"id\": 0, \n",
      "      \"parent\": 1, \n",
      "      \"relate\": \"Exp\"\n",
      "     }\n",
      "    ]\n",
      "   }, \n",
      "   {\n",
      "    \"id\": 1, \n",
      "    \"cont\": \"是\", \n",
      "    \"pos\": \"v\", \n",
      "    \"ne\": \"O\", \n",
      "    \"parent\": -1, \n",
      "    \"relate\": \"HED\", \n",
      "    \"semparent\": -1, \n",
      "    \"semrelate\": \"Root\", \n",
      "    \"arg\": [\n",
      "     {\n",
      "      \"id\": 0, \n",
      "      \"type\": \"A0\", \n",
      "      \"beg\": 0, \n",
      "      \"end\": 0\n",
      "     }, \n",
      "     {\n",
      "      \"id\": 1, \n",
      "      \"type\": \"A1\", \n",
      "      \"beg\": 2, \n",
      "      \"end\": 3\n",
      "     }\n",
      "    ], \n",
      "    \"sem\": [\n",
      "     {\n",
      "      \"id\": 0, \n",
      "      \"parent\": -1, \n",
      "      \"relate\": \"Root\"\n",
      "     }\n",
      "    ]\n",
      "   }, \n",
      "   {\n",
      "    \"id\": 2, \n",
      "    \"cont\": \"中国\", \n",
      "    \"pos\": \"ns\", \n",
      "    \"ne\": \"S-Ns\", \n",
      "    \"parent\": 3, \n",
      "    \"relate\": \"ATT\", \n",
      "    \"semparent\": 3, \n",
      "    \"semrelate\": \"Nmod\", \n",
      "    \"arg\": [], \n",
      "    \"sem\": [\n",
      "     {\n",
      "      \"id\": 0, \n",
      "      \"parent\": 3, \n",
      "      \"relate\": \"Nmod\"\n",
      "     }\n",
      "    ]\n",
      "   }, \n",
      "   {\n",
      "    \"id\": 3, \n",
      "    \"cont\": \"人\", \n",
      "    \"pos\": \"n\", \n",
      "    \"ne\": \"O\", \n",
      "    \"parent\": 1, \n",
      "    \"relate\": \"VOB\", \n",
      "    \"semparent\": 1, \n",
      "    \"semrelate\": \"Clas\", \n",
      "    \"arg\": [], \n",
      "    \"sem\": [\n",
      "     {\n",
      "      \"id\": 0, \n",
      "      \"parent\": 1, \n",
      "      \"relate\": \"Clas\"\n",
      "     }\n",
      "    ]\n",
      "   }, \n",
      "   {\n",
      "    \"id\": 4, \n",
      "    \"cont\": \"。\", \n",
      "    \"pos\": \"wp\", \n",
      "    \"ne\": \"O\", \n",
      "    \"parent\": 1, \n",
      "    \"relate\": \"WP\", \n",
      "    \"semparent\": 1, \n",
      "    \"semrelate\": \"mPunc\", \n",
      "    \"arg\": [], \n",
      "    \"sem\": [\n",
      "     {\n",
      "      \"id\": 0, \n",
      "      \"parent\": 1, \n",
      "      \"relate\": \"mPunc\"\n",
      "     }\n",
      "    ]\n",
      "   }\n",
      "  ]\n",
      " ]\n",
      "]\n"
     ]
    }
   ],
   "source": [
    "# -*- coding:utf8 -*-\n",
    "import urllib.request\n",
    "\n",
    "if __name__ == '__main__':\n",
    "    url_get_base = \"https://api.ltp-cloud.com/analysis/\"\n",
    "    args = { \n",
    "        'api_key' : 'd1a9h0l4M5aeMp7H9WdnSgzhPKve0dBTbfsMbhgB',\n",
    "        'text' : '我是中国人。',\n",
    "        'pattern' : 'all',\n",
    "        'format' : 'json'\n",
    "    }\n",
    "    result = urllib.request.urlopen(url_get_base, urllib.parse.urlencode(args).encode(encoding='UTF8')) # POST method\n",
    "    content = result.read().strip()\n",
    "    print (content.decode('utf-8'))"
   ]
  },
  {
   "cell_type": "code",
   "execution_count": 21,
   "metadata": {},
   "outputs": [
    {
     "name": "stdout",
     "output_type": "stream",
     "text": [
      "[[[[0, \"我\", \"r\", \"O\", 1, \"SBV\", 1, \"Exp\", [], [[0, 1, \"Exp\"]]], [1, \"是\", \"v\", \"O\", -1, \"HED\", -1, \"Root\", [[0, \"A0\", 0, 0], [1, \"A1\", 2, 3]], [[0, -1, \"Root\"]]], [2, \"中国\", \"ns\", \"S-Ns\", 3, \"ATT\", 3, \"Nmod\", [], [[0, 3, \"Nmod\"]]], [3, \"人\", \"n\", \"O\", 1, \"VOB\", 1, \"Clas\", [], [[0, 1, \"Clas\"]]], [4, \"。\", \"wp\", \"O\", 1, \"WP\", 1, \"mPunc\", [], [[0, 1, \"mPunc\"]]]]]]\n"
     ]
    }
   ],
   "source": [
    "# -*- coding:utf8 -*-\n",
    "import urllib.request\n",
    "\n",
    "if __name__ == '__main__':\n",
    "    url_get_base = \"https://api.ltp-cloud.com/analysis/\"\n",
    "    args = { \n",
    "        'api_key' : 'd1a9h0l4M5aeMp7H9WdnSgzhPKve0dBTbfsMbhgB',\n",
    "        'text' : '我是中国人。',\n",
    "        'pattern' : 'all',\n",
    "        'format' : 'json',\n",
    "        'has_key':'false'\n",
    "    }\n",
    "    result = urllib.request.urlopen(url_get_base, urllib.parse.urlencode(args).encode(encoding='UTF8')) # POST method\n",
    "    content = result.read().strip()\n",
    "    print (content.decode('utf-8'))"
   ]
  },
  {
   "cell_type": "code",
   "execution_count": null,
   "metadata": {
    "collapsed": true
   },
   "outputs": [],
   "source": []
  }
 ],
 "metadata": {
  "kernelspec": {
   "display_name": "Python 3",
   "language": "python",
   "name": "python3"
  },
  "language_info": {
   "codemirror_mode": {
    "name": "ipython",
    "version": 3
   },
   "file_extension": ".py",
   "mimetype": "text/x-python",
   "name": "python",
   "nbconvert_exporter": "python",
   "pygments_lexer": "ipython3",
   "version": "3.6.5"
  }
 },
 "nbformat": 4,
 "nbformat_minor": 2
}
