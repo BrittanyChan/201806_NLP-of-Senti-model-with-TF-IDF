{
 "cells": [
  {
   "cell_type": "code",
   "execution_count": null,
   "metadata": {
    "collapsed": true
   },
   "outputs": [],
   "source": [
    "#自定义分词和词性标注"
   ]
  },
  {
   "cell_type": "code",
   "execution_count": 1,
   "metadata": {},
   "outputs": [
    {
     "name": "stdout",
     "output_type": "stream",
     "text": [
      "我_r 是_v 中国_ns 人_n 。_wp\n",
      "我_r 的_u 名字_n 叫_v 陈曦_nh ，_wp 我_r 喜欢_v 的_u 人_n 叫_v 于_p 童川_n 。_wp\n",
      "他_r 是_v 个_q 优秀_a 又_d 厉害_a 的_u 人_n 。_wp\n"
     ]
    }
   ],
   "source": [
    "# -*- coding:utf8 -*-\n",
    "import urllib.request\n",
    "\n",
    "if __name__ == '__main__':\n",
    "    url_get_base = \"https://api.ltp-cloud.com/analysis/\"\n",
    "    args = { \n",
    "        'api_key' : 'd1a9h0l4M5aeMp7H9WdnSgzhPKve0dBTbfsMbhgB',\n",
    "        'text' : '我是中国人。我的名字叫陈曦，我喜欢的人叫于童川。他是个优秀又厉害的人。',\n",
    "        'pattern' : 'pos',\n",
    "        'format' : 'plain'\n",
    "    }\n",
    "    result = urllib.request.urlopen(url_get_base, urllib.parse.urlencode(args).encode(encoding='UTF8')) # POST method\n",
    "    content = result.read().strip()\n",
    "    print (content.decode('utf-8'))"
   ]
  },
  {
   "cell_type": "code",
   "execution_count": 2,
   "metadata": {
    "collapsed": true
   },
   "outputs": [],
   "source": [
    "from LTML import LTML"
   ]
  },
  {
   "cell_type": "code",
   "execution_count": 3,
   "metadata": {},
   "outputs": [
    {
     "name": "stdout",
     "output_type": "stream",
     "text": [
      "<?xml version=\"1.0\" ?>\n",
      "<xml4nlp>\n",
      "\t<note lstmsemparser=\"n\" ne=\"n\" parser=\"n\" pos=\"y\" semparser=\"n\" sent=\"y\" srl=\"n\" word=\"y\"/>\n",
      "\t<doc>\n",
      "\t\t<para id=\"0\">\n",
      "\t\t\t<sent cont=\"于童川\" id=\"0\">\n",
      "\t\t\t\t<word cont=\"于童川\" id=\"0\" pos=\"N\"/>\n",
      "\t\t\t</sent>\n",
      "\t\t</para>\n",
      "\t</doc>\n",
      "</xml4nlp>\n",
      "\n"
     ]
    }
   ],
   "source": [
    "ltml = LTML()\n",
    "ltml.build_from_words([(\"于童川\", \"N\")])\n",
    "print (ltml.prettify())"
   ]
  },
  {
   "cell_type": "code",
   "execution_count": null,
   "metadata": {
    "collapsed": true
   },
   "outputs": [],
   "source": []
  }
 ],
 "metadata": {
  "kernelspec": {
   "display_name": "Python 3",
   "language": "python",
   "name": "python3"
  },
  "language_info": {
   "codemirror_mode": {
    "name": "ipython",
    "version": 3
   },
   "file_extension": ".py",
   "mimetype": "text/x-python",
   "name": "python",
   "nbconvert_exporter": "python",
   "pygments_lexer": "ipython3",
   "version": "3.6.3"
  }
 },
 "nbformat": 4,
 "nbformat_minor": 2
}
