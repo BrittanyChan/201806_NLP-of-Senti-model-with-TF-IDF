{
 "cells": [
  {
   "cell_type": "code",
   "execution_count": 1,
   "metadata": {},
   "outputs": [],
   "source": [
    "import bs4 #导入BeautifulSoup的包  \n",
    "\n",
    "soup = bs4.BeautifulSoup(open('neg_0xml.txt'),\"lxml\")#读取需要排序的xml文件  \n",
    "soup=soup.body"
   ]
  },
  {
   "cell_type": "code",
   "execution_count": 2,
   "metadata": {},
   "outputs": [],
   "source": [
    "words=soup.find_all('word')"
   ]
  },
  {
   "cell_type": "code",
   "execution_count": 3,
   "metadata": {
    "scrolled": true
   },
   "outputs": [
    {
     "data": {
      "text/plain": [
       "[<word cont=\"标准间\" id=\"0\" ne=\"O\" parent=\"3\" pos=\"n\" relate=\"ATT\" semparent=\"2\" semrelate=\"Exp\">\n",
       " <sem id=\"0\" parent=\"2\" relate=\"Exp\"></sem>\n",
       " </word>,\n",
       " <word cont=\"太\" id=\"1\" ne=\"O\" parent=\"2\" pos=\"d\" relate=\"ADV\" semparent=\"2\" semrelate=\"mDegr\">\n",
       " <sem id=\"0\" parent=\"2\" relate=\"mDegr\"></sem>\n",
       " </word>,\n",
       " <word cont=\"差\" id=\"2\" ne=\"O\" parent=\"3\" pos=\"a\" relate=\"ATT\" semparent=\"3\" semrelate=\"Feat\">\n",
       " <sem id=\"0\" parent=\"-1\" relate=\"Root\"></sem>\n",
       " </word>,\n",
       " <word cont=\"房间\" id=\"3\" ne=\"O\" parent=\"5\" pos=\"n\" relate=\"SBV\" semparent=\"5\" semrelate=\"Exp\">\n",
       " <sem id=\"0\" parent=\"10\" relate=\"Loc\"></sem>\n",
       " </word>,\n",
       " <word cont=\"还\" id=\"4\" ne=\"O\" parent=\"5\" pos=\"d\" relate=\"ADV\" semparent=\"5\" semrelate=\"mMod\">\n",
       " <sem id=\"0\" parent=\"10\" relate=\"mMod\"></sem>\n",
       " </word>,\n",
       " <word cont=\"不如\" id=\"5\" ne=\"O\" parent=\"-1\" pos=\"v\" relate=\"HED\" semparent=\"-1\" semrelate=\"Root\">\n",
       " <sem id=\"0\" parent=\"7\" relate=\"mPrep\"></sem>\n",
       " </word>,\n",
       " <word cont=\"3\" id=\"6\" ne=\"O\" parent=\"7\" pos=\"m\" relate=\"ATT\" semparent=\"7\" semrelate=\"Quan\">\n",
       " <sem id=\"0\" parent=\"7\" relate=\"Quan\"></sem>\n",
       " </word>,\n",
       " <word cont=\"星\" id=\"7\" ne=\"O\" parent=\"13\" pos=\"n\" relate=\"ATT\" semparent=\"13\" semrelate=\"Pat\">\n",
       " <sem id=\"0\" parent=\"10\" relate=\"Datv\"></sem>\n",
       " </word>,\n",
       " <word cont=\"的\" id=\"8\" ne=\"O\" parent=\"7\" pos=\"u\" relate=\"RAD\" semparent=\"7\" semrelate=\"mAux\">\n",
       " <sem id=\"0\" parent=\"7\" relate=\"mAux\"></sem>\n",
       " </word>,\n",
       " <word cont=\"而且\" id=\"9\" ne=\"O\" parent=\"13\" pos=\"c\" relate=\"ADV\" semparent=\"13\" semrelate=\"mConj\">\n",
       " <sem id=\"0\" parent=\"10\" relate=\"mConj\"></sem>\n",
       " </word>,\n",
       " <word cont=\"设施\" id=\"10\" ne=\"O\" parent=\"12\" pos=\"n\" relate=\"ATT\" semparent=\"13\" semrelate=\"Agt\">\n",
       " <sem id=\"0\" parent=\"14\" relate=\"Belg\"></sem>\n",
       " </word>,\n",
       " <word cont=\"非常\" id=\"11\" ne=\"O\" parent=\"12\" pos=\"d\" relate=\"ADV\" semparent=\"12\" semrelate=\"mDegr\">\n",
       " <sem id=\"0\" parent=\"12\" relate=\"mDegr\"></sem>\n",
       " </word>,\n",
       " <word cont=\"陈旧.\" id=\"12\" ne=\"S-Nh\" parent=\"13\" pos=\"nh\" relate=\"SBV\" semparent=\"13\" semrelate=\"Agt\">\n",
       " <sem id=\"0\" parent=\"13\" relate=\"Qp\"></sem>\n",
       " </word>,\n",
       " <word cont=\"建议\" id=\"13\" ne=\"O\" parent=\"5\" pos=\"v\" relate=\"VOB\" semparent=\"5\" semrelate=\"dCont\">\n",
       " <arg beg=\"15\" end=\"18\" id=\"0\" type=\"A1\"></arg>\n",
       " <sem id=\"0\" parent=\"14\" relate=\"dDesc\"></sem>\n",
       " </word>,\n",
       " <word cont=\"酒店\" id=\"14\" ne=\"O\" parent=\"19\" pos=\"n\" relate=\"SBV\" semparent=\"21\" semrelate=\"Exp\">\n",
       " <sem id=\"0\" parent=\"2\" relate=\"Datv\"></sem>\n",
       " <sem id=\"1\" parent=\"21\" relate=\"Exp\"></sem>\n",
       " </word>,\n",
       " <word cont=\"把\" id=\"15\" ne=\"O\" parent=\"19\" pos=\"p\" relate=\"ADV\" semparent=\"18\" semrelate=\"mPrep\">\n",
       " <sem id=\"0\" parent=\"18\" relate=\"mPrep\"></sem>\n",
       " </word>,\n",
       " <word cont=\"老\" id=\"16\" ne=\"O\" parent=\"18\" pos=\"a\" relate=\"ATT\" semparent=\"18\" semrelate=\"Feat\">\n",
       " <sem id=\"0\" parent=\"18\" relate=\"Desc\"></sem>\n",
       " </word>,\n",
       " <word cont=\"的\" id=\"17\" ne=\"O\" parent=\"16\" pos=\"u\" relate=\"RAD\" semparent=\"16\" semrelate=\"mAux\">\n",
       " <sem id=\"0\" parent=\"16\" relate=\"mAux\"></sem>\n",
       " </word>,\n",
       " <word cont=\"标准间\" id=\"18\" ne=\"O\" parent=\"15\" pos=\"n\" relate=\"POB\" semparent=\"21\" semrelate=\"Pat\">\n",
       " <sem id=\"0\" parent=\"21\" relate=\"Pat\"></sem>\n",
       " </word>,\n",
       " <word cont=\"从\" id=\"19\" ne=\"O\" parent=\"13\" pos=\"p\" relate=\"VOB\" semparent=\"21\" semrelate=\"mPrep\">\n",
       " <sem id=\"0\" parent=\"21\" relate=\"mPrep\"></sem>\n",
       " </word>,\n",
       " <word cont=\"新\" id=\"20\" ne=\"O\" parent=\"21\" pos=\"d\" relate=\"ADV\" semparent=\"21\" semrelate=\"Feat\">\n",
       " <sem id=\"0\" parent=\"21\" relate=\"Desc\"></sem>\n",
       " </word>,\n",
       " <word cont=\"改善\" id=\"21\" ne=\"O\" parent=\"19\" pos=\"v\" relate=\"POB\" semparent=\"13\" semrelate=\"dCont\">\n",
       " <sem id=\"0\" parent=\"2\" relate=\"eResu\"></sem>\n",
       " </word>,\n",
       " <word cont=\".\" id=\"22\" ne=\"O\" parent=\"21\" pos=\"wp\" relate=\"WP\" semparent=\"13\" semrelate=\"mPunc\">\n",
       " <sem id=\"0\" parent=\"21\" relate=\"mPunc\"></sem>\n",
       " </word>]"
      ]
     },
     "execution_count": 3,
     "metadata": {},
     "output_type": "execute_result"
    }
   ],
   "source": [
    "words"
   ]
  },
  {
   "cell_type": "code",
   "execution_count": 4,
   "metadata": {},
   "outputs": [
    {
     "data": {
      "text/plain": [
       "23"
      ]
     },
     "execution_count": 4,
     "metadata": {},
     "output_type": "execute_result"
    }
   ],
   "source": [
    "len(words)"
   ]
  },
  {
   "cell_type": "code",
   "execution_count": 5,
   "metadata": {},
   "outputs": [
    {
     "data": {
      "text/plain": [
       "<word cont=\"标准间\" id=\"0\" ne=\"O\" parent=\"3\" pos=\"n\" relate=\"ATT\" semparent=\"2\" semrelate=\"Exp\">\n",
       "<sem id=\"0\" parent=\"2\" relate=\"Exp\"></sem>\n",
       "</word>"
      ]
     },
     "execution_count": 5,
     "metadata": {},
     "output_type": "execute_result"
    }
   ],
   "source": [
    "words[0]"
   ]
  },
  {
   "cell_type": "code",
   "execution_count": 6,
   "metadata": {},
   "outputs": [],
   "source": [
    "list_word=[]\n",
    "list_relate=[]\n",
    "\n",
    "for i in range(0,len(words)):\n",
    "    wordcontent=str(words[i])\n",
    "    soup=bs4.BeautifulSoup(wordcontent,\"lxml\")\n",
    "    word=soup.word.get('cont')\n",
    "    list_word.append(word)\n",
    "    relate=soup.word.get('relate')\n",
    "    list_relate.append(relate)"
   ]
  },
  {
   "cell_type": "code",
   "execution_count": 7,
   "metadata": {},
   "outputs": [
    {
     "data": {
      "text/plain": [
       "['标准间',\n",
       " '太',\n",
       " '差',\n",
       " '房间',\n",
       " '还',\n",
       " '不如',\n",
       " '3',\n",
       " '星',\n",
       " '的',\n",
       " '而且',\n",
       " '设施',\n",
       " '非常',\n",
       " '陈旧.',\n",
       " '建议',\n",
       " '酒店',\n",
       " '把',\n",
       " '老',\n",
       " '的',\n",
       " '标准间',\n",
       " '从',\n",
       " '新',\n",
       " '改善',\n",
       " '.']"
      ]
     },
     "execution_count": 7,
     "metadata": {},
     "output_type": "execute_result"
    }
   ],
   "source": [
    "list_word"
   ]
  },
  {
   "cell_type": "code",
   "execution_count": 8,
   "metadata": {},
   "outputs": [
    {
     "data": {
      "text/plain": [
       "['ATT',\n",
       " 'ADV',\n",
       " 'ATT',\n",
       " 'SBV',\n",
       " 'ADV',\n",
       " 'HED',\n",
       " 'ATT',\n",
       " 'ATT',\n",
       " 'RAD',\n",
       " 'ADV',\n",
       " 'ATT',\n",
       " 'ADV',\n",
       " 'SBV',\n",
       " 'VOB',\n",
       " 'SBV',\n",
       " 'ADV',\n",
       " 'ATT',\n",
       " 'RAD',\n",
       " 'POB',\n",
       " 'VOB',\n",
       " 'ADV',\n",
       " 'POB',\n",
       " 'WP']"
      ]
     },
     "execution_count": 8,
     "metadata": {},
     "output_type": "execute_result"
    }
   ],
   "source": [
    "list_relate"
   ]
  },
  {
   "cell_type": "code",
   "execution_count": 9,
   "metadata": {},
   "outputs": [
    {
     "data": {
      "text/plain": [
       "23"
      ]
     },
     "execution_count": 9,
     "metadata": {},
     "output_type": "execute_result"
    }
   ],
   "source": [
    "len(list_word)"
   ]
  },
  {
   "cell_type": "code",
   "execution_count": 10,
   "metadata": {},
   "outputs": [
    {
     "data": {
      "text/plain": [
       "23"
      ]
     },
     "execution_count": 10,
     "metadata": {},
     "output_type": "execute_result"
    }
   ],
   "source": [
    "len(list_relate)"
   ]
  },
  {
   "cell_type": "code",
   "execution_count": 11,
   "metadata": {},
   "outputs": [],
   "source": [
    "word=soup.word.get('cont')"
   ]
  },
  {
   "cell_type": "code",
   "execution_count": 12,
   "metadata": {},
   "outputs": [
    {
     "name": "stdout",
     "output_type": "stream",
     "text": [
      ".\n"
     ]
    }
   ],
   "source": [
    "print (word)"
   ]
  },
  {
   "cell_type": "code",
   "execution_count": 13,
   "metadata": {},
   "outputs": [
    {
     "data": {
      "text/plain": [
       "'WP'"
      ]
     },
     "execution_count": 13,
     "metadata": {},
     "output_type": "execute_result"
    }
   ],
   "source": [
    "relate=soup.word.get('relate')\n",
    "relate"
   ]
  },
  {
   "cell_type": "code",
   "execution_count": 14,
   "metadata": {},
   "outputs": [],
   "source": [
    "dict_list = list(zip(list_word,list_relate))"
   ]
  },
  {
   "cell_type": "code",
   "execution_count": 15,
   "metadata": {},
   "outputs": [
    {
     "name": "stdout",
     "output_type": "stream",
     "text": [
      "('标准间', 'ATT')\n",
      "('太', 'ADV')\n",
      "('差', 'ATT')\n",
      "('房间', 'SBV')\n",
      "('还', 'ADV')\n",
      "('不如', 'HED')\n",
      "('3', 'ATT')\n",
      "('星', 'ATT')\n",
      "('的', 'RAD')\n",
      "('而且', 'ADV')\n",
      "('设施', 'ATT')\n",
      "('非常', 'ADV')\n",
      "('陈旧.', 'SBV')\n",
      "('建议', 'VOB')\n",
      "('酒店', 'SBV')\n",
      "('把', 'ADV')\n",
      "('老', 'ATT')\n",
      "('的', 'RAD')\n",
      "('标准间', 'POB')\n",
      "('从', 'VOB')\n",
      "('新', 'ADV')\n",
      "('改善', 'POB')\n",
      "('.', 'WP')\n"
     ]
    }
   ],
   "source": [
    "for i in dict_list:\n",
    "    print (i)"
   ]
  },
  {
   "cell_type": "code",
   "execution_count": 16,
   "metadata": {},
   "outputs": [],
   "source": [
    "ATT_List = []\n",
    "for i in dict_list:\n",
    "    if i[1]== 'ATT':\n",
    "        ATT_List.append(i)"
   ]
  },
  {
   "cell_type": "code",
   "execution_count": 17,
   "metadata": {},
   "outputs": [
    {
     "data": {
      "text/plain": [
       "[('标准间', 'ATT'),\n",
       " ('差', 'ATT'),\n",
       " ('3', 'ATT'),\n",
       " ('星', 'ATT'),\n",
       " ('设施', 'ATT'),\n",
       " ('老', 'ATT')]"
      ]
     },
     "execution_count": 17,
     "metadata": {},
     "output_type": "execute_result"
    }
   ],
   "source": [
    "ATT_List"
   ]
  },
  {
   "cell_type": "code",
   "execution_count": 18,
   "metadata": {},
   "outputs": [
    {
     "data": {
      "text/plain": [
       "{'标准间': 'POB',\n",
       " '太': 'ADV',\n",
       " '差': 'ATT',\n",
       " '房间': 'SBV',\n",
       " '还': 'ADV',\n",
       " '不如': 'HED',\n",
       " '3': 'ATT',\n",
       " '星': 'ATT',\n",
       " '的': 'RAD',\n",
       " '而且': 'ADV',\n",
       " '设施': 'ATT',\n",
       " '非常': 'ADV',\n",
       " '陈旧.': 'SBV',\n",
       " '建议': 'VOB',\n",
       " '酒店': 'SBV',\n",
       " '把': 'ADV',\n",
       " '老': 'ATT',\n",
       " '从': 'VOB',\n",
       " '新': 'ADV',\n",
       " '改善': 'POB',\n",
       " '.': 'WP'}"
      ]
     },
     "execution_count": 18,
     "metadata": {},
     "output_type": "execute_result"
    }
   ],
   "source": [
    "dictionary = dict(zip(list_word,list_relate))\n",
    "dictionary"
   ]
  },
  {
   "cell_type": "code",
   "execution_count": 19,
   "metadata": {},
   "outputs": [
    {
     "data": {
      "text/plain": [
       "['差', '3', '星', '设施', '老']"
      ]
     },
     "execution_count": 19,
     "metadata": {},
     "output_type": "execute_result"
    }
   ],
   "source": [
    "key_ATT_list = []\n",
    "for key, val in dictionary.items():  \n",
    "    if val == 'ATT':  \n",
    "        key_ATT_list.append(key)\n",
    "\n",
    "key_ATT_list"
   ]
  },
  {
   "cell_type": "code",
   "execution_count": 20,
   "metadata": {},
   "outputs": [
    {
     "data": {
      "text/plain": [
       "['房间', '陈旧.', '酒店']"
      ]
     },
     "execution_count": 20,
     "metadata": {},
     "output_type": "execute_result"
    }
   ],
   "source": [
    "key_SBV_list = []\n",
    "for key, val in dictionary.items():  \n",
    "    if val == 'SBV':  \n",
    "        key_SBV_list.append(key)\n",
    "\n",
    "key_SBV_list"
   ]
  },
  {
   "cell_type": "code",
   "execution_count": 21,
   "metadata": {},
   "outputs": [
    {
     "data": {
      "text/plain": [
       "['建议', '从']"
      ]
     },
     "execution_count": 21,
     "metadata": {},
     "output_type": "execute_result"
    }
   ],
   "source": [
    "key_VOB_list = []\n",
    "for key, val in dictionary.items():  \n",
    "    if val == 'VOB':  \n",
    "        key_VOB_list.append(key)\n",
    "\n",
    "key_VOB_list"
   ]
  },
  {
   "cell_type": "code",
   "execution_count": 22,
   "metadata": {},
   "outputs": [],
   "source": [
    "key_list_cad = key_ATT_list + key_SBV_list + key_VOB_list"
   ]
  },
  {
   "cell_type": "code",
   "execution_count": 23,
   "metadata": {},
   "outputs": [
    {
     "data": {
      "text/plain": [
       "['差', '3', '星', '设施', '老', '房间', '陈旧.', '酒店', '建议', '从']"
      ]
     },
     "execution_count": 23,
     "metadata": {},
     "output_type": "execute_result"
    }
   ],
   "source": [
    "key_list_cad"
   ]
  },
  {
   "cell_type": "code",
   "execution_count": 24,
   "metadata": {},
   "outputs": [],
   "source": [
    "key_list = ['标准间', '房间', '3星', '设施', '酒店', '标准间']"
   ]
  },
  {
   "cell_type": "code",
   "execution_count": 25,
   "metadata": {},
   "outputs": [
    {
     "data": {
      "text/plain": [
       "['酒店', '设施', '房间']"
      ]
     },
     "execution_count": 25,
     "metadata": {},
     "output_type": "execute_result"
    }
   ],
   "source": [
    "key_feature = list(set(key_list).intersection(set(key_list_cad)))  \n",
    "key_feature"
   ]
  },
  {
   "cell_type": "code",
   "execution_count": null,
   "metadata": {
    "collapsed": true
   },
   "outputs": [],
   "source": [
    "# 这里再key_list_cad里面可以加一个key_COO_list但对于用最近的r代词替换实在没有什么好办法做到。。"
   ]
  }
 ],
 "metadata": {
  "kernelspec": {
   "display_name": "Python 3",
   "language": "python",
   "name": "python3"
  },
  "language_info": {
   "codemirror_mode": {
    "name": "ipython",
    "version": 3
   },
   "file_extension": ".py",
   "mimetype": "text/x-python",
   "name": "python",
   "nbconvert_exporter": "python",
   "pygments_lexer": "ipython3",
   "version": "3.6.5"
  }
 },
 "nbformat": 4,
 "nbformat_minor": 2
}
