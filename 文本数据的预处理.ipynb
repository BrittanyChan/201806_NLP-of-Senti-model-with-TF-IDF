{
 "cells": [
  {
   "cell_type": "code",
   "execution_count": 1,
   "metadata": {},
   "outputs": [],
   "source": [
    "# -*-coding:utf-8-*-\n",
    "from collections import Counter  \n",
    "import jieba\n",
    "import re\n",
    "      \n",
    "# jieba.load_userdict('userdict.txt')  \n",
    "# 创建停用词list  \n",
    "def stopwordslist(filepath):  \n",
    "    stopwords = [line.strip() for line in open(filepath, 'r').readlines()]  \n",
    "    return stopwords  \n",
    "      \n",
    "      \n",
    "# 对句子进行分词  \n",
    "def seg_sentence(sentence):  \n",
    "    sentence_seged = jieba.cut(sentence.strip())  \n",
    "    stopwords = stopwordslist('stopwords(ch).txt')  # 这里加载停用词的路径  \n",
    "    outstr = ''  \n",
    "    for word in sentence_seged:  \n",
    "        if word not in stopwords:  \n",
    "            if word != '\\t':\n",
    "                outstr += word  \n",
    "                outstr += \" \"  \n",
    "    return outstr \n",
    "\n",
    "def choose_file():\n",
    "    print ('Which one?')\n",
    "    location = input()\n",
    "    print ('neg/pos?')\n",
    "    polarity =  input()\n",
    "    return (location, polarity)\n",
    "\n",
    "def save_withoutstopwords(i):\n",
    "    global location, polarity\n",
    "    inputs = open('.\\\\ChnSentiCorp\\\\'  + str(location) + '\\\\' + str(polarity) \n",
    "                  + '\\\\' + str(polarity) + '('+ str(i) +').txt', 'r',encoding='utf-8') #加载要处理的文件的路径 \n",
    "    outputs = open('.\\ChnSentiCorp\\%s\\%s\\withoutstop\\%s(%d).txt'%(location,polarity,polarity,i), 'w',encoding='utf-8') #加载处理后的文件路径\n",
    "    for line in inputs:  \n",
    "        line_seg = seg_sentence(line)  # 这里的返回值是字符串  \n",
    "        outputs.write(line_seg)\n",
    "    outputs.close()\n",
    "    inputs.close()"
   ]
  },
  {
   "cell_type": "code",
   "execution_count": 2,
   "metadata": {},
   "outputs": [
    {
     "name": "stdout",
     "output_type": "stream",
     "text": [
      "Which one?\n",
      "Ctrip_htl_ba_4000\n",
      "neg/pos?\n",
      "neg\n"
     ]
    },
    {
     "name": "stderr",
     "output_type": "stream",
     "text": [
      "Building prefix dict from the default dictionary ...\n",
      "Loading model from cache C:\\Users\\samsung\\AppData\\Local\\Temp\\jieba.cache\n",
      "Loading model cost 1.813 seconds.\n",
      "Prefix dict has been built succesfully.\n"
     ]
    }
   ],
   "source": [
    "if __name__ == '__main__':\n",
    "    location, polarity = choose_file()\n",
    "    for i in range(2000):\n",
    "        save_withoutstopwords(i)"
   ]
  },
  {
   "cell_type": "code",
   "execution_count": 3,
   "metadata": {},
   "outputs": [
    {
     "name": "stdout",
     "output_type": "stream",
     "text": [
      "Which one?\n",
      "Ctrip_htl_ba_4000\n",
      "neg/pos?\n",
      "pos\n"
     ]
    }
   ],
   "source": [
    "if __name__ == '__main__':\n",
    "    location, polarity = choose_file()\n",
    "    for i in range(2000):\n",
    "        save_withoutstopwords(i)"
   ]
  },
  {
   "cell_type": "code",
   "execution_count": 4,
   "metadata": {},
   "outputs": [
    {
     "name": "stdout",
     "output_type": "stream",
     "text": [
      "Which one?\n",
      "Dangdang_Book_4000\n",
      "neg/pos?\n",
      "neg\n"
     ]
    }
   ],
   "source": [
    "if __name__ == '__main__':\n",
    "    location, polarity = choose_file()\n",
    "    for i in range(2000):\n",
    "        save_withoutstopwords(i)"
   ]
  },
  {
   "cell_type": "code",
   "execution_count": 5,
   "metadata": {},
   "outputs": [
    {
     "name": "stdout",
     "output_type": "stream",
     "text": [
      "Which one?\n",
      "Dangdang_Book_4000\n",
      "neg/pos?\n",
      "pos\n"
     ]
    }
   ],
   "source": [
    "if __name__ == '__main__':\n",
    "    location, polarity = choose_file()\n",
    "    for i in range(2000):\n",
    "        save_withoutstopwords(i)"
   ]
  },
  {
   "cell_type": "code",
   "execution_count": 6,
   "metadata": {},
   "outputs": [
    {
     "name": "stdout",
     "output_type": "stream",
     "text": [
      "Which one?\n",
      "Jingdong_NB_4000\n",
      "neg/pos?\n",
      "neg\n"
     ]
    }
   ],
   "source": [
    "if __name__ == '__main__':\n",
    "    location, polarity = choose_file()\n",
    "    for i in range(2000):\n",
    "        save_withoutstopwords(i)"
   ]
  },
  {
   "cell_type": "code",
   "execution_count": 7,
   "metadata": {},
   "outputs": [
    {
     "name": "stdout",
     "output_type": "stream",
     "text": [
      "Which one?\n",
      "Jingdong_NB_4000\n",
      "neg/pos?\n",
      "pos\n"
     ]
    }
   ],
   "source": [
    "if __name__ == '__main__':\n",
    "    location, polarity = choose_file()\n",
    "    for i in range(2000):\n",
    "        save_withoutstopwords(i)"
   ]
  },
  {
   "cell_type": "code",
   "execution_count": null,
   "metadata": {
    "collapsed": true
   },
   "outputs": [],
   "source": []
  }
 ],
 "metadata": {
  "anaconda-cloud": {},
  "kernelspec": {
   "display_name": "Python 3",
   "language": "python",
   "name": "python3"
  },
  "language_info": {
   "codemirror_mode": {
    "name": "ipython",
    "version": 3
   },
   "file_extension": ".py",
   "mimetype": "text/x-python",
   "name": "python",
   "nbconvert_exporter": "python",
   "pygments_lexer": "ipython3",
   "version": "3.6.5"
  }
 },
 "nbformat": 4,
 "nbformat_minor": 2
}
